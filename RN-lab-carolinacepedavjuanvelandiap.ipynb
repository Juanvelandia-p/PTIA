{
 "cells": [
  {
   "cell_type": "markdown",
   "metadata": {
    "id": "fno-fTWaPMjG"
   },
   "source": [
    "# ESCUELA COLOMBIANA DE INGENIERÍA\n",
    "# PRINCIPIOS Y TECNOLOGÍAS IA 2025-2\n",
    "## REDES NEURONALES\n",
    "## LABORATORIO 1/4\n",
    "\n",
    "**OBJETIVOS**\n",
    "\n",
    "Desarrollar competencias básicas para:\n",
    "1. Modelar y resolver problemas usando redes neuronales\n",
    "2. Implementar los algoritmos hacia adelante (FEED-FORWARD) y hacia atrás con  aprendizaje (BACKPROPAGATION)\n",
    "3. Apropiar un framework para redes neuronales (*keras*)\n",
    "\n",
    "**ENTREGABLE**\n",
    "\n",
    "\n",
    "*Reglas para el envío de los entregables*:\n",
    "\n",
    "* **Forma de envío:**\n",
    "Esta tarea se debe enviar únicamente a través de la plataforma Moodle en la actividad definida. Se tendrán dos entregas: inicial y final.\n",
    "\n",
    "* **Formato de los archivos:**\n",
    "Incluyan en un archivo *.zip* los archivos correspondientes al laboratorio.\n",
    "\n",
    "* **Nomenclatura para nombrar los archivos:**\n",
    "El archivo deberá ser renombrado, “RN-lab-” seguido por los usuarios institucionales de los autores ordenados alfabéticamente (por ejemplo, se debe adicionar pedroperez al nombre del archivo, si el correo electrónico de Pedro Pérez es pedro.perez@mail.escuelaing.edu.co)\n",
    "\n",
    "\n"
   ]
  },
  {
   "cell_type": "markdown",
   "metadata": {
    "id": "vzOqkgmtTtyJ"
   },
   "source": [
    "# PARTE I. IMPLEMENTACIÓN DE RED NEURONAL\n",
    "\n",
    "Para este apartado se va a implementar una red neuronal con algoritmo de aprendizaje, en este caso propagación hacia atras del error.\n",
    "\n",
    "*Introducido en la década de 1960 y popularizado casi 30 años después (1989) por Rumelhart, Hinton y Williams en el artículo titulado «Learning representations by back-propagating errors».*"
   ]
  },
  {
   "cell_type": "markdown",
   "metadata": {
    "id": "kGmFQXzxi6ly"
   },
   "source": [
    "## IMPLEMENTACIÓN DE RED NEURONAL CON PROPAGACIÓN HACIA ATRÁS\n",
    "\n",
    "Implementar una red neuronal totalmente conectada desde su definición simple; calculando una salida $\\check{Y} (Yp)$ para unas entradas $X$."
   ]
  },
  {
   "cell_type": "markdown",
   "metadata": {
    "id": "cd2V7GcrVNYT"
   },
   "source": [
    "**Propiedades y parámetros:**\n",
    "\n",
    "*   Tarea: **Clasificación multiple**\n",
    "*   Tipo de capas: **Densas**\n",
    "*   Métrica para evaluación : **ACCURACY**\n",
    "\n",
    "<div>\n",
    "<img src=\"https://cdn.prod.website-files.com/660ef16a9e0687d9cc27474a/662c426738658d748af1b20d_644af5900694f1102fb9b470_classification_guide_apc05.png\" width=\"350\"/>\n",
    "</div>\n",
    "\n",
    "> **Funciones de activación**\n",
    "\n",
    "*   Función de activación en *Capas ocultas* : **ReLU**\n",
    "\n",
    "<div>\n",
    "<img src=\"https://intuitivetutorial.com/wp-content/uploads/2023/07/ReLU-1.png\" width=\"350\"/>\n",
    "</div>\n",
    "\n",
    "*   Función de activación en *Capa de salida* : **Sigmoide**\n",
    "\n",
    "<div>\n",
    "<img src=\"https://doimages.nyc3.cdn.digitaloceanspaces.com/010AI-ML/content/images/2018/06/sigm.png\" width=\"350\"/>\n",
    "</div>\n",
    "\n",
    "> **Funcion de costo**\n",
    "\n",
    "*   Función de costo/perdida «error»: **Entropia Cruzada «Cross-Entropy»**\n",
    "\n",
    "<div>\n",
    "<img src=\"https://framerusercontent.com/images/jiDTkbQC7DPO2z2XmxqoeMsrkA.webp?width=1300&height=508\" width=\"450\"/>\n",
    "</div>\n",
    "\n",
    "\n",
    "\n",
    "\n",
    "\n"
   ]
  },
  {
   "cell_type": "markdown",
   "metadata": {
    "id": "oulCkcVq6Qxk"
   },
   "source": [
    "## Paso 1. Derivadas"
   ]
  },
  {
   "cell_type": "markdown",
   "metadata": {
    "id": "QoEOsx7_6jIp"
   },
   "source": [
    "*Incluya en este apartado el proceso de la derivación de las funciones*\n",
    "\n",
    "---\n",
    "**Derivada función Sigmoide:**\n",
    "    Para la derivacion de la funcion sigmoide se hara uso de la derivacion en cadena, reescribiendola haciendo uso de la propiedad de exponentes negativos:\n",
    "$$\n",
    "\\sigma(z) = \\frac{1}{1 + e^{-z}} = (1+e^{-z})^{-1}\n",
    "$$\n",
    "\n",
    "En esta forma, realizamos la derivacion en cadena de la siguiente manera:\n",
    "$$\n",
    "\\sigma'(z)=-(1+e^{-z})^{-2}*-{e^{-z}}\n",
    "$$\n",
    "Simplificando la expresion, obtenemos:\n",
    "$$\n",
    "\\sigma'(z)=\\frac{e^{-z}}{{(1 + e^{-z})}^2}\n",
    "$$\n",
    "\n",
    "Ahora para poder simplificar mas el uso de esta funcion para futuro:\n",
    "$$\n",
    "\\sigma'(z)=\\sigma(z)*(1-\\sigma(z))\n",
    "$$\n",
    "\n",
    "\n",
    "---\n",
    "**Derivada función ReLU**\n",
    "\n",
    "$$\n",
    "f(x) = \n",
    "    \\begin{cases} \n",
    "    0, & x \\leq 0 \\\\ \n",
    "    x, & x > 0 \n",
    "    \\end{cases}\n",
    "$$\n",
    " \n",
    "Derivación aproximada de la fórmula:\n",
    " \n",
    "$$\n",
    "f(x) = \\sum_{i=1}^{\\infty} \\sigma(x - i + 0.5) \\quad \\text{(stepped sigmoid)}\n",
    "$$\n",
    " \n",
    "$$\n",
    "\\approx \\log(1 + e^x) \\quad \\text{(softplus function)}\n",
    "$$\n",
    " \n",
    "$$\n",
    "\\approx \\max(0, x + N(0,1)) \\quad \\text{(ReL function)}\n",
    "$$\n",
    " \n",
    "donde\n",
    " \n",
    "$$\n",
    "\\sigma(z) = \\frac{1}{1 + e^{-z}} \\quad \\text{(sigmoid)}\n",
    "$$\n",
    " \n",
    "\n",
    "\n",
    "---\n",
    "**Derivada función de costo: Entropia Cruzada**\n",
    "\n",
    "La **entropía cruzada** toma como entrada dos distribuciones de probabilidad discretas \n",
    "y genera un único número real que representa la similitud entre ambas distribuciones:\n",
    " \n",
    "$$\n",
    "\\mathcal{L}(y,s) = -\\sum_{i=1}^{C} y_i \\cdot \\log(s_i)\n",
    "$$\n",
    " \n",
    "donde $C$ denota el número de clases diferentes y el subíndice $i$ denota el $i$-ésimo \n",
    "elemento del vector.\n",
    " \n",
    "---\n",
    " \n",
    "## Derivada de la entropía cruzada respecto a $z$\n",
    " \n",
    "Queremos calcular la derivada de la pérdida con respecto a la entrada ponderada $z$ \n",
    "de la capa de salida (softmax):\n",
    " \n",
    "$$\n",
    "\\frac{\\partial \\mathcal{L}}{\\partial z_j} \n",
    "= -\\frac{\\partial}{\\partial z_j} \\sum_{i=1}^{C} y_i \\cdot \\log(s_i) \n",
    "= - \\sum_{i=1}^{C} y_i \\cdot \\frac{1}{s_i} \\cdot \\frac{\\partial s_i}{\\partial z_j}\n",
    "$$\n",
    " \n",
    "---\n",
    " \n",
    "Sustituyendo la derivada de $s_i$ respecto a $z_j$:\n",
    " \n",
    "$$\n",
    "\\frac{\\partial s_i}{\\partial z_j} = s_i \\cdot (\\mathbf{1}\\{i=j\\} - s_j)\n",
    "$$\n",
    " \n",
    "tenemos:\n",
    " \n",
    "$$\n",
    "\\frac{\\partial \\mathcal{L}}{\\partial z_j} \n",
    "= - \\sum_{i=1}^{C} y_i \\cdot (\\mathbf{1}\\{i=j\\} - s_j)\n",
    "$$\n",
    " \n",
    "---\n",
    " \n",
    "Observamos que el término con $i=j$ se separa:\n",
    " \n",
    "$$\n",
    "\\frac{\\partial \\mathcal{L}}{\\partial z_j} \n",
    "= - \\left[ \\sum_{i \\neq j} y_i \\cdot (0 - s_j) \\right] - y_j \\cdot (1 - s_j)\n",
    "$$\n",
    " \n",
    "---\n",
    " \n",
    "Para los sumandos $i \\neq j$, la delta de Kronecker es cero:\n",
    " \n",
    "$$\n",
    "\\frac{\\partial \\mathcal{L}}{\\partial z_j} \n",
    "= \\left[ \\sum_{i \\neq j} y_i \\cdot s_j \\right] - y_j + y_j \\cdot s_j\n",
    "$$\n",
    " \n",
    "---\n",
    " \n",
    "Agrupando de nuevo:\n",
    " \n",
    "$$\n",
    "\\frac{\\partial \\mathcal{L}}{\\partial z_j} \n",
    "= \\sum_{i=1}^{C} y_i \\cdot s_j - y_j\n",
    "$$\n",
    " \n",
    "Como $y$ es una distribución de probabilidad y $\\sum_{i=1}^{C} y_i = 1$, resulta:\n",
    " \n",
    "$$\n",
    "\\frac{\\partial \\mathcal{L}}{\\partial z_j} \n",
    "= s_j - y_j\n",
    "$$\n",
    " \n",
    "---\n",
    " \n",
    "### Forma vectorial\n",
    " \n",
    "En notación vectorial, el gradiente se expresa como:\n",
    " \n",
    "$$\n",
    "\\frac{\\partial \\mathcal{L}}{\\partial z} = s - y\n",
    "$$\n",
    " \n",
    "donde $s$ es el vector de probabilidades obtenido por softmax y $y$ es el vector \n",
    "one-hot de etiquetas reales."
   ]
  },
  {
   "cell_type": "markdown",
   "metadata": {
    "id": "bB_c4pSm7-5C"
   },
   "source": [
    "## Paso 2. Implementación del código para ANN (Dense)"
   ]
  },
  {
   "cell_type": "markdown",
   "metadata": {
    "id": "MnjfO4Tdfjvt"
   },
   "source": [
    "### LIBRERÍA NECESARIA"
   ]
  },
  {
   "cell_type": "code",
   "execution_count": 52,
   "metadata": {},
   "outputs": [
    {
     "name": "stdout",
     "output_type": "stream",
     "text": [
      "Requirement already satisfied: numpy in c:\\users\\usuario\\appdata\\local\\packages\\pythonsoftwarefoundation.python.3.11_qbz5n2kfra8p0\\localcache\\local-packages\\python311\\site-packages (2.3.3)\n",
      "Requirement already satisfied: matplotlib in c:\\users\\usuario\\appdata\\local\\packages\\pythonsoftwarefoundation.python.3.11_qbz5n2kfra8p0\\localcache\\local-packages\\python311\\site-packages (3.10.6)\n",
      "Requirement already satisfied: pandas in c:\\users\\usuario\\appdata\\local\\packages\\pythonsoftwarefoundation.python.3.11_qbz5n2kfra8p0\\localcache\\local-packages\\python311\\site-packages (2.3.2)\n",
      "Collecting jupyter\n",
      "  Using cached jupyter-1.1.1-py2.py3-none-any.whl.metadata (2.0 kB)\n",
      "Requirement already satisfied: scikit-learn in c:\\users\\usuario\\appdata\\local\\packages\\pythonsoftwarefoundation.python.3.11_qbz5n2kfra8p0\\localcache\\local-packages\\python311\\site-packages (1.7.2)\n",
      "Collecting tensorflow\n",
      "  Using cached tensorflow-2.20.0-cp311-cp311-win_amd64.whl.metadata (4.6 kB)\n",
      "Requirement already satisfied: contourpy>=1.0.1 in c:\\users\\usuario\\appdata\\local\\packages\\pythonsoftwarefoundation.python.3.11_qbz5n2kfra8p0\\localcache\\local-packages\\python311\\site-packages (from matplotlib) (1.3.3)\n",
      "Requirement already satisfied: cycler>=0.10 in c:\\users\\usuario\\appdata\\local\\packages\\pythonsoftwarefoundation.python.3.11_qbz5n2kfra8p0\\localcache\\local-packages\\python311\\site-packages (from matplotlib) (0.12.1)\n",
      "Requirement already satisfied: fonttools>=4.22.0 in c:\\users\\usuario\\appdata\\local\\packages\\pythonsoftwarefoundation.python.3.11_qbz5n2kfra8p0\\localcache\\local-packages\\python311\\site-packages (from matplotlib) (4.60.0)\n",
      "Requirement already satisfied: kiwisolver>=1.3.1 in c:\\users\\usuario\\appdata\\local\\packages\\pythonsoftwarefoundation.python.3.11_qbz5n2kfra8p0\\localcache\\local-packages\\python311\\site-packages (from matplotlib) (1.4.9)\n",
      "Requirement already satisfied: packaging>=20.0 in c:\\users\\usuario\\appdata\\local\\packages\\pythonsoftwarefoundation.python.3.11_qbz5n2kfra8p0\\localcache\\local-packages\\python311\\site-packages (from matplotlib) (25.0)\n",
      "Requirement already satisfied: pillow>=8 in c:\\users\\usuario\\appdata\\local\\packages\\pythonsoftwarefoundation.python.3.11_qbz5n2kfra8p0\\localcache\\local-packages\\python311\\site-packages (from matplotlib) (11.3.0)\n",
      "Requirement already satisfied: pyparsing>=2.3.1 in c:\\users\\usuario\\appdata\\local\\packages\\pythonsoftwarefoundation.python.3.11_qbz5n2kfra8p0\\localcache\\local-packages\\python311\\site-packages (from matplotlib) (3.2.4)\n",
      "Requirement already satisfied: python-dateutil>=2.7 in c:\\users\\usuario\\appdata\\local\\packages\\pythonsoftwarefoundation.python.3.11_qbz5n2kfra8p0\\localcache\\local-packages\\python311\\site-packages (from matplotlib) (2.9.0.post0)\n",
      "Requirement already satisfied: pytz>=2020.1 in c:\\users\\usuario\\appdata\\local\\packages\\pythonsoftwarefoundation.python.3.11_qbz5n2kfra8p0\\localcache\\local-packages\\python311\\site-packages (from pandas) (2025.2)\n",
      "Requirement already satisfied: tzdata>=2022.7 in c:\\users\\usuario\\appdata\\local\\packages\\pythonsoftwarefoundation.python.3.11_qbz5n2kfra8p0\\localcache\\local-packages\\python311\\site-packages (from pandas) (2025.2)\n",
      "Collecting notebook (from jupyter)\n",
      "  Using cached notebook-7.4.5-py3-none-any.whl.metadata (10 kB)\n",
      "Requirement already satisfied: jupyter-console in c:\\users\\usuario\\appdata\\local\\packages\\pythonsoftwarefoundation.python.3.11_qbz5n2kfra8p0\\localcache\\local-packages\\python311\\site-packages (from jupyter) (6.6.3)\n",
      "Collecting nbconvert (from jupyter)\n",
      "  Using cached nbconvert-7.16.6-py3-none-any.whl.metadata (8.5 kB)\n",
      "Requirement already satisfied: ipykernel in c:\\users\\usuario\\appdata\\local\\packages\\pythonsoftwarefoundation.python.3.11_qbz5n2kfra8p0\\localcache\\local-packages\\python311\\site-packages (from jupyter) (6.30.1)\n",
      "Requirement already satisfied: ipywidgets in c:\\users\\usuario\\appdata\\local\\packages\\pythonsoftwarefoundation.python.3.11_qbz5n2kfra8p0\\localcache\\local-packages\\python311\\site-packages (from jupyter) (8.1.7)\n",
      "Collecting jupyterlab (from jupyter)\n",
      "  Using cached jupyterlab-4.4.7-py3-none-any.whl.metadata (16 kB)\n",
      "Requirement already satisfied: scipy>=1.8.0 in c:\\users\\usuario\\appdata\\local\\packages\\pythonsoftwarefoundation.python.3.11_qbz5n2kfra8p0\\localcache\\local-packages\\python311\\site-packages (from scikit-learn) (1.16.2)\n",
      "Requirement already satisfied: joblib>=1.2.0 in c:\\users\\usuario\\appdata\\local\\packages\\pythonsoftwarefoundation.python.3.11_qbz5n2kfra8p0\\localcache\\local-packages\\python311\\site-packages (from scikit-learn) (1.5.2)\n",
      "Requirement already satisfied: threadpoolctl>=3.1.0 in c:\\users\\usuario\\appdata\\local\\packages\\pythonsoftwarefoundation.python.3.11_qbz5n2kfra8p0\\localcache\\local-packages\\python311\\site-packages (from scikit-learn) (3.6.0)\n",
      "Requirement already satisfied: absl-py>=1.0.0 in c:\\users\\usuario\\appdata\\local\\packages\\pythonsoftwarefoundation.python.3.11_qbz5n2kfra8p0\\localcache\\local-packages\\python311\\site-packages (from tensorflow) (2.3.1)\n",
      "Requirement already satisfied: astunparse>=1.6.0 in c:\\users\\usuario\\appdata\\local\\packages\\pythonsoftwarefoundation.python.3.11_qbz5n2kfra8p0\\localcache\\local-packages\\python311\\site-packages (from tensorflow) (1.6.3)\n",
      "Requirement already satisfied: flatbuffers>=24.3.25 in c:\\users\\usuario\\appdata\\local\\packages\\pythonsoftwarefoundation.python.3.11_qbz5n2kfra8p0\\localcache\\local-packages\\python311\\site-packages (from tensorflow) (25.2.10)\n",
      "Requirement already satisfied: gast!=0.5.0,!=0.5.1,!=0.5.2,>=0.2.1 in c:\\users\\usuario\\appdata\\local\\packages\\pythonsoftwarefoundation.python.3.11_qbz5n2kfra8p0\\localcache\\local-packages\\python311\\site-packages (from tensorflow) (0.6.0)\n",
      "Requirement already satisfied: google_pasta>=0.1.1 in c:\\users\\usuario\\appdata\\local\\packages\\pythonsoftwarefoundation.python.3.11_qbz5n2kfra8p0\\localcache\\local-packages\\python311\\site-packages (from tensorflow) (0.2.0)\n",
      "Requirement already satisfied: libclang>=13.0.0 in c:\\users\\usuario\\appdata\\local\\packages\\pythonsoftwarefoundation.python.3.11_qbz5n2kfra8p0\\localcache\\local-packages\\python311\\site-packages (from tensorflow) (18.1.1)\n",
      "Requirement already satisfied: opt_einsum>=2.3.2 in c:\\users\\usuario\\appdata\\local\\packages\\pythonsoftwarefoundation.python.3.11_qbz5n2kfra8p0\\localcache\\local-packages\\python311\\site-packages (from tensorflow) (3.4.0)\n",
      "Requirement already satisfied: protobuf>=5.28.0 in c:\\users\\usuario\\appdata\\local\\packages\\pythonsoftwarefoundation.python.3.11_qbz5n2kfra8p0\\localcache\\local-packages\\python311\\site-packages (from tensorflow) (6.32.1)\n",
      "Requirement already satisfied: requests<3,>=2.21.0 in c:\\users\\usuario\\appdata\\local\\packages\\pythonsoftwarefoundation.python.3.11_qbz5n2kfra8p0\\localcache\\local-packages\\python311\\site-packages (from tensorflow) (2.32.5)\n",
      "Requirement already satisfied: setuptools in c:\\program files\\windowsapps\\pythonsoftwarefoundation.python.3.11_3.11.2544.0_x64__qbz5n2kfra8p0\\lib\\site-packages (from tensorflow) (65.5.0)\n",
      "Requirement already satisfied: six>=1.12.0 in c:\\users\\usuario\\appdata\\local\\packages\\pythonsoftwarefoundation.python.3.11_qbz5n2kfra8p0\\localcache\\local-packages\\python311\\site-packages (from tensorflow) (1.17.0)\n",
      "Requirement already satisfied: termcolor>=1.1.0 in c:\\users\\usuario\\appdata\\local\\packages\\pythonsoftwarefoundation.python.3.11_qbz5n2kfra8p0\\localcache\\local-packages\\python311\\site-packages (from tensorflow) (3.1.0)\n",
      "Requirement already satisfied: typing_extensions>=3.6.6 in c:\\users\\usuario\\appdata\\local\\packages\\pythonsoftwarefoundation.python.3.11_qbz5n2kfra8p0\\localcache\\local-packages\\python311\\site-packages (from tensorflow) (4.15.0)\n",
      "Requirement already satisfied: wrapt>=1.11.0 in c:\\users\\usuario\\appdata\\local\\packages\\pythonsoftwarefoundation.python.3.11_qbz5n2kfra8p0\\localcache\\local-packages\\python311\\site-packages (from tensorflow) (1.17.3)\n",
      "Requirement already satisfied: grpcio<2.0,>=1.24.3 in c:\\users\\usuario\\appdata\\local\\packages\\pythonsoftwarefoundation.python.3.11_qbz5n2kfra8p0\\localcache\\local-packages\\python311\\site-packages (from tensorflow) (1.75.0)\n",
      "Requirement already satisfied: tensorboard~=2.20.0 in c:\\users\\usuario\\appdata\\local\\packages\\pythonsoftwarefoundation.python.3.11_qbz5n2kfra8p0\\localcache\\local-packages\\python311\\site-packages (from tensorflow) (2.20.0)\n",
      "Requirement already satisfied: keras>=3.10.0 in c:\\users\\usuario\\appdata\\local\\packages\\pythonsoftwarefoundation.python.3.11_qbz5n2kfra8p0\\localcache\\local-packages\\python311\\site-packages (from tensorflow) (3.11.3)\n",
      "Requirement already satisfied: h5py>=3.11.0 in c:\\users\\usuario\\appdata\\local\\packages\\pythonsoftwarefoundation.python.3.11_qbz5n2kfra8p0\\localcache\\local-packages\\python311\\site-packages (from tensorflow) (3.14.0)\n",
      "Requirement already satisfied: ml_dtypes<1.0.0,>=0.5.1 in c:\\users\\usuario\\appdata\\local\\packages\\pythonsoftwarefoundation.python.3.11_qbz5n2kfra8p0\\localcache\\local-packages\\python311\\site-packages (from tensorflow) (0.5.3)\n",
      "Requirement already satisfied: wheel<1.0,>=0.23.0 in c:\\users\\usuario\\appdata\\local\\packages\\pythonsoftwarefoundation.python.3.11_qbz5n2kfra8p0\\localcache\\local-packages\\python311\\site-packages (from astunparse>=1.6.0->tensorflow) (0.45.1)\n",
      "Requirement already satisfied: rich in c:\\users\\usuario\\appdata\\local\\packages\\pythonsoftwarefoundation.python.3.11_qbz5n2kfra8p0\\localcache\\local-packages\\python311\\site-packages (from keras>=3.10.0->tensorflow) (14.1.0)\n",
      "Requirement already satisfied: namex in c:\\users\\usuario\\appdata\\local\\packages\\pythonsoftwarefoundation.python.3.11_qbz5n2kfra8p0\\localcache\\local-packages\\python311\\site-packages (from keras>=3.10.0->tensorflow) (0.1.0)\n",
      "Requirement already satisfied: optree in c:\\users\\usuario\\appdata\\local\\packages\\pythonsoftwarefoundation.python.3.11_qbz5n2kfra8p0\\localcache\\local-packages\\python311\\site-packages (from keras>=3.10.0->tensorflow) (0.17.0)\n",
      "Requirement already satisfied: charset_normalizer<4,>=2 in c:\\users\\usuario\\appdata\\local\\packages\\pythonsoftwarefoundation.python.3.11_qbz5n2kfra8p0\\localcache\\local-packages\\python311\\site-packages (from requests<3,>=2.21.0->tensorflow) (3.4.3)\n",
      "Requirement already satisfied: idna<4,>=2.5 in c:\\users\\usuario\\appdata\\local\\packages\\pythonsoftwarefoundation.python.3.11_qbz5n2kfra8p0\\localcache\\local-packages\\python311\\site-packages (from requests<3,>=2.21.0->tensorflow) (3.10)\n",
      "Requirement already satisfied: urllib3<3,>=1.21.1 in c:\\users\\usuario\\appdata\\local\\packages\\pythonsoftwarefoundation.python.3.11_qbz5n2kfra8p0\\localcache\\local-packages\\python311\\site-packages (from requests<3,>=2.21.0->tensorflow) (2.5.0)\n",
      "Requirement already satisfied: certifi>=2017.4.17 in c:\\users\\usuario\\appdata\\local\\packages\\pythonsoftwarefoundation.python.3.11_qbz5n2kfra8p0\\localcache\\local-packages\\python311\\site-packages (from requests<3,>=2.21.0->tensorflow) (2025.8.3)\n",
      "Requirement already satisfied: markdown>=2.6.8 in c:\\users\\usuario\\appdata\\local\\packages\\pythonsoftwarefoundation.python.3.11_qbz5n2kfra8p0\\localcache\\local-packages\\python311\\site-packages (from tensorboard~=2.20.0->tensorflow) (3.9)\n",
      "Requirement already satisfied: tensorboard-data-server<0.8.0,>=0.7.0 in c:\\users\\usuario\\appdata\\local\\packages\\pythonsoftwarefoundation.python.3.11_qbz5n2kfra8p0\\localcache\\local-packages\\python311\\site-packages (from tensorboard~=2.20.0->tensorflow) (0.7.2)\n",
      "Requirement already satisfied: werkzeug>=1.0.1 in c:\\users\\usuario\\appdata\\local\\packages\\pythonsoftwarefoundation.python.3.11_qbz5n2kfra8p0\\localcache\\local-packages\\python311\\site-packages (from tensorboard~=2.20.0->tensorflow) (3.1.3)\n",
      "Requirement already satisfied: comm>=0.1.1 in c:\\users\\usuario\\appdata\\local\\packages\\pythonsoftwarefoundation.python.3.11_qbz5n2kfra8p0\\localcache\\local-packages\\python311\\site-packages (from ipykernel->jupyter) (0.2.3)\n",
      "Requirement already satisfied: debugpy>=1.6.5 in c:\\users\\usuario\\appdata\\local\\packages\\pythonsoftwarefoundation.python.3.11_qbz5n2kfra8p0\\localcache\\local-packages\\python311\\site-packages (from ipykernel->jupyter) (1.8.17)\n",
      "Requirement already satisfied: ipython>=7.23.1 in c:\\users\\usuario\\appdata\\local\\packages\\pythonsoftwarefoundation.python.3.11_qbz5n2kfra8p0\\localcache\\local-packages\\python311\\site-packages (from ipykernel->jupyter) (9.5.0)\n",
      "Requirement already satisfied: jupyter-client>=8.0.0 in c:\\users\\usuario\\appdata\\local\\packages\\pythonsoftwarefoundation.python.3.11_qbz5n2kfra8p0\\localcache\\local-packages\\python311\\site-packages (from ipykernel->jupyter) (8.6.3)\n",
      "Requirement already satisfied: jupyter-core!=5.0.*,>=4.12 in c:\\users\\usuario\\appdata\\local\\packages\\pythonsoftwarefoundation.python.3.11_qbz5n2kfra8p0\\localcache\\local-packages\\python311\\site-packages (from ipykernel->jupyter) (5.8.1)\n",
      "Requirement already satisfied: matplotlib-inline>=0.1 in c:\\users\\usuario\\appdata\\local\\packages\\pythonsoftwarefoundation.python.3.11_qbz5n2kfra8p0\\localcache\\local-packages\\python311\\site-packages (from ipykernel->jupyter) (0.1.7)\n",
      "Requirement already satisfied: nest-asyncio>=1.4 in c:\\users\\usuario\\appdata\\local\\packages\\pythonsoftwarefoundation.python.3.11_qbz5n2kfra8p0\\localcache\\local-packages\\python311\\site-packages (from ipykernel->jupyter) (1.6.0)\n",
      "Requirement already satisfied: psutil>=5.7 in c:\\users\\usuario\\appdata\\local\\packages\\pythonsoftwarefoundation.python.3.11_qbz5n2kfra8p0\\localcache\\local-packages\\python311\\site-packages (from ipykernel->jupyter) (7.1.0)\n",
      "Requirement already satisfied: pyzmq>=25 in c:\\users\\usuario\\appdata\\local\\packages\\pythonsoftwarefoundation.python.3.11_qbz5n2kfra8p0\\localcache\\local-packages\\python311\\site-packages (from ipykernel->jupyter) (27.1.0)\n",
      "Requirement already satisfied: tornado>=6.2 in c:\\users\\usuario\\appdata\\local\\packages\\pythonsoftwarefoundation.python.3.11_qbz5n2kfra8p0\\localcache\\local-packages\\python311\\site-packages (from ipykernel->jupyter) (6.5.2)\n",
      "Requirement already satisfied: traitlets>=5.4.0 in c:\\users\\usuario\\appdata\\local\\packages\\pythonsoftwarefoundation.python.3.11_qbz5n2kfra8p0\\localcache\\local-packages\\python311\\site-packages (from ipykernel->jupyter) (5.14.3)\n",
      "Requirement already satisfied: widgetsnbextension~=4.0.14 in c:\\users\\usuario\\appdata\\local\\packages\\pythonsoftwarefoundation.python.3.11_qbz5n2kfra8p0\\localcache\\local-packages\\python311\\site-packages (from ipywidgets->jupyter) (4.0.14)\n",
      "Requirement already satisfied: jupyterlab_widgets~=3.0.15 in c:\\users\\usuario\\appdata\\local\\packages\\pythonsoftwarefoundation.python.3.11_qbz5n2kfra8p0\\localcache\\local-packages\\python311\\site-packages (from ipywidgets->jupyter) (3.0.15)\n",
      "Requirement already satisfied: prompt-toolkit>=3.0.30 in c:\\users\\usuario\\appdata\\local\\packages\\pythonsoftwarefoundation.python.3.11_qbz5n2kfra8p0\\localcache\\local-packages\\python311\\site-packages (from jupyter-console->jupyter) (3.0.52)\n",
      "Requirement already satisfied: pygments in c:\\users\\usuario\\appdata\\local\\packages\\pythonsoftwarefoundation.python.3.11_qbz5n2kfra8p0\\localcache\\local-packages\\python311\\site-packages (from jupyter-console->jupyter) (2.19.2)\n",
      "Requirement already satisfied: async-lru>=1.0.0 in c:\\users\\usuario\\appdata\\local\\packages\\pythonsoftwarefoundation.python.3.11_qbz5n2kfra8p0\\localcache\\local-packages\\python311\\site-packages (from jupyterlab->jupyter) (2.0.5)\n",
      "Requirement already satisfied: httpx<1,>=0.25.0 in c:\\users\\usuario\\appdata\\local\\packages\\pythonsoftwarefoundation.python.3.11_qbz5n2kfra8p0\\localcache\\local-packages\\python311\\site-packages (from jupyterlab->jupyter) (0.28.1)\n",
      "Requirement already satisfied: jinja2>=3.0.3 in c:\\users\\usuario\\appdata\\local\\packages\\pythonsoftwarefoundation.python.3.11_qbz5n2kfra8p0\\localcache\\local-packages\\python311\\site-packages (from jupyterlab->jupyter) (3.1.6)\n",
      "Collecting jupyter-lsp>=2.0.0 (from jupyterlab->jupyter)\n",
      "  Using cached jupyter_lsp-2.3.0-py3-none-any.whl.metadata (1.8 kB)\n",
      "Collecting jupyter-server<3,>=2.4.0 (from jupyterlab->jupyter)\n",
      "  Using cached jupyter_server-2.17.0-py3-none-any.whl.metadata (8.5 kB)\n",
      "Collecting jupyterlab-server<3,>=2.27.1 (from jupyterlab->jupyter)\n",
      "  Using cached jupyterlab_server-2.27.3-py3-none-any.whl.metadata (5.9 kB)\n",
      "Collecting notebook-shim>=0.2 (from jupyterlab->jupyter)\n",
      "  Using cached notebook_shim-0.2.4-py3-none-any.whl.metadata (4.0 kB)\n",
      "Requirement already satisfied: beautifulsoup4 in c:\\users\\usuario\\appdata\\local\\packages\\pythonsoftwarefoundation.python.3.11_qbz5n2kfra8p0\\localcache\\local-packages\\python311\\site-packages (from nbconvert->jupyter) (4.13.5)\n",
      "Requirement already satisfied: bleach!=5.0.0 in c:\\users\\usuario\\appdata\\local\\packages\\pythonsoftwarefoundation.python.3.11_qbz5n2kfra8p0\\localcache\\local-packages\\python311\\site-packages (from bleach[css]!=5.0.0->nbconvert->jupyter) (6.2.0)\n",
      "Requirement already satisfied: defusedxml in c:\\users\\usuario\\appdata\\local\\packages\\pythonsoftwarefoundation.python.3.11_qbz5n2kfra8p0\\localcache\\local-packages\\python311\\site-packages (from nbconvert->jupyter) (0.7.1)\n",
      "Requirement already satisfied: jupyterlab-pygments in c:\\users\\usuario\\appdata\\local\\packages\\pythonsoftwarefoundation.python.3.11_qbz5n2kfra8p0\\localcache\\local-packages\\python311\\site-packages (from nbconvert->jupyter) (0.3.0)\n",
      "Requirement already satisfied: markupsafe>=2.0 in c:\\users\\usuario\\appdata\\local\\packages\\pythonsoftwarefoundation.python.3.11_qbz5n2kfra8p0\\localcache\\local-packages\\python311\\site-packages (from nbconvert->jupyter) (3.0.2)\n",
      "Requirement already satisfied: mistune<4,>=2.0.3 in c:\\users\\usuario\\appdata\\local\\packages\\pythonsoftwarefoundation.python.3.11_qbz5n2kfra8p0\\localcache\\local-packages\\python311\\site-packages (from nbconvert->jupyter) (3.1.4)\n",
      "Collecting nbclient>=0.5.0 (from nbconvert->jupyter)\n",
      "  Using cached nbclient-0.10.2-py3-none-any.whl.metadata (8.3 kB)\n",
      "Collecting nbformat>=5.7 (from nbconvert->jupyter)\n",
      "  Using cached nbformat-5.10.4-py3-none-any.whl.metadata (3.6 kB)\n",
      "Requirement already satisfied: pandocfilters>=1.4.1 in c:\\users\\usuario\\appdata\\local\\packages\\pythonsoftwarefoundation.python.3.11_qbz5n2kfra8p0\\localcache\\local-packages\\python311\\site-packages (from nbconvert->jupyter) (1.5.1)\n",
      "Requirement already satisfied: webencodings in c:\\users\\usuario\\appdata\\local\\packages\\pythonsoftwarefoundation.python.3.11_qbz5n2kfra8p0\\localcache\\local-packages\\python311\\site-packages (from bleach!=5.0.0->bleach[css]!=5.0.0->nbconvert->jupyter) (0.5.1)\n",
      "Requirement already satisfied: tinycss2<1.5,>=1.1.0 in c:\\users\\usuario\\appdata\\local\\packages\\pythonsoftwarefoundation.python.3.11_qbz5n2kfra8p0\\localcache\\local-packages\\python311\\site-packages (from bleach[css]!=5.0.0->nbconvert->jupyter) (1.4.0)\n",
      "Requirement already satisfied: anyio in c:\\users\\usuario\\appdata\\local\\packages\\pythonsoftwarefoundation.python.3.11_qbz5n2kfra8p0\\localcache\\local-packages\\python311\\site-packages (from httpx<1,>=0.25.0->jupyterlab->jupyter) (4.10.0)\n",
      "Requirement already satisfied: httpcore==1.* in c:\\users\\usuario\\appdata\\local\\packages\\pythonsoftwarefoundation.python.3.11_qbz5n2kfra8p0\\localcache\\local-packages\\python311\\site-packages (from httpx<1,>=0.25.0->jupyterlab->jupyter) (1.0.9)\n",
      "Requirement already satisfied: h11>=0.16 in c:\\users\\usuario\\appdata\\local\\packages\\pythonsoftwarefoundation.python.3.11_qbz5n2kfra8p0\\localcache\\local-packages\\python311\\site-packages (from httpcore==1.*->httpx<1,>=0.25.0->jupyterlab->jupyter) (0.16.0)\n",
      "Requirement already satisfied: colorama in c:\\users\\usuario\\appdata\\local\\packages\\pythonsoftwarefoundation.python.3.11_qbz5n2kfra8p0\\localcache\\local-packages\\python311\\site-packages (from ipython>=7.23.1->ipykernel->jupyter) (0.4.6)\n",
      "Requirement already satisfied: decorator in c:\\users\\usuario\\appdata\\local\\packages\\pythonsoftwarefoundation.python.3.11_qbz5n2kfra8p0\\localcache\\local-packages\\python311\\site-packages (from ipython>=7.23.1->ipykernel->jupyter) (5.2.1)\n",
      "Requirement already satisfied: ipython-pygments-lexers in c:\\users\\usuario\\appdata\\local\\packages\\pythonsoftwarefoundation.python.3.11_qbz5n2kfra8p0\\localcache\\local-packages\\python311\\site-packages (from ipython>=7.23.1->ipykernel->jupyter) (1.1.1)\n",
      "Requirement already satisfied: jedi>=0.16 in c:\\users\\usuario\\appdata\\local\\packages\\pythonsoftwarefoundation.python.3.11_qbz5n2kfra8p0\\localcache\\local-packages\\python311\\site-packages (from ipython>=7.23.1->ipykernel->jupyter) (0.19.2)\n",
      "Requirement already satisfied: stack_data in c:\\users\\usuario\\appdata\\local\\packages\\pythonsoftwarefoundation.python.3.11_qbz5n2kfra8p0\\localcache\\local-packages\\python311\\site-packages (from ipython>=7.23.1->ipykernel->jupyter) (0.6.3)\n",
      "Requirement already satisfied: platformdirs>=2.5 in c:\\users\\usuario\\appdata\\local\\packages\\pythonsoftwarefoundation.python.3.11_qbz5n2kfra8p0\\localcache\\local-packages\\python311\\site-packages (from jupyter-core!=5.0.*,>=4.12->ipykernel->jupyter) (4.4.0)\n",
      "Requirement already satisfied: pywin32>=300 in c:\\users\\usuario\\appdata\\local\\packages\\pythonsoftwarefoundation.python.3.11_qbz5n2kfra8p0\\localcache\\local-packages\\python311\\site-packages (from jupyter-core!=5.0.*,>=4.12->ipykernel->jupyter) (311)\n",
      "Requirement already satisfied: argon2-cffi>=21.1 in c:\\users\\usuario\\appdata\\local\\packages\\pythonsoftwarefoundation.python.3.11_qbz5n2kfra8p0\\localcache\\local-packages\\python311\\site-packages (from jupyter-server<3,>=2.4.0->jupyterlab->jupyter) (25.1.0)\n",
      "Collecting jupyter-events>=0.11.0 (from jupyter-server<3,>=2.4.0->jupyterlab->jupyter)\n",
      "  Using cached jupyter_events-0.12.0-py3-none-any.whl.metadata (5.8 kB)\n",
      "Requirement already satisfied: jupyter-server-terminals>=0.4.4 in c:\\users\\usuario\\appdata\\local\\packages\\pythonsoftwarefoundation.python.3.11_qbz5n2kfra8p0\\localcache\\local-packages\\python311\\site-packages (from jupyter-server<3,>=2.4.0->jupyterlab->jupyter) (0.5.3)\n",
      "Requirement already satisfied: overrides>=5.0 in c:\\users\\usuario\\appdata\\local\\packages\\pythonsoftwarefoundation.python.3.11_qbz5n2kfra8p0\\localcache\\local-packages\\python311\\site-packages (from jupyter-server<3,>=2.4.0->jupyterlab->jupyter) (7.7.0)\n",
      "Requirement already satisfied: prometheus-client>=0.9 in c:\\users\\usuario\\appdata\\local\\packages\\pythonsoftwarefoundation.python.3.11_qbz5n2kfra8p0\\localcache\\local-packages\\python311\\site-packages (from jupyter-server<3,>=2.4.0->jupyterlab->jupyter) (0.22.1)\n",
      "Requirement already satisfied: pywinpty>=2.0.1 in c:\\users\\usuario\\appdata\\local\\packages\\pythonsoftwarefoundation.python.3.11_qbz5n2kfra8p0\\localcache\\local-packages\\python311\\site-packages (from jupyter-server<3,>=2.4.0->jupyterlab->jupyter) (3.0.0)\n",
      "Requirement already satisfied: send2trash>=1.8.2 in c:\\users\\usuario\\appdata\\local\\packages\\pythonsoftwarefoundation.python.3.11_qbz5n2kfra8p0\\localcache\\local-packages\\python311\\site-packages (from jupyter-server<3,>=2.4.0->jupyterlab->jupyter) (1.8.3)\n",
      "Requirement already satisfied: terminado>=0.8.3 in c:\\users\\usuario\\appdata\\local\\packages\\pythonsoftwarefoundation.python.3.11_qbz5n2kfra8p0\\localcache\\local-packages\\python311\\site-packages (from jupyter-server<3,>=2.4.0->jupyterlab->jupyter) (0.18.1)\n",
      "Requirement already satisfied: websocket-client>=1.7 in c:\\users\\usuario\\appdata\\local\\packages\\pythonsoftwarefoundation.python.3.11_qbz5n2kfra8p0\\localcache\\local-packages\\python311\\site-packages (from jupyter-server<3,>=2.4.0->jupyterlab->jupyter) (1.8.0)\n",
      "Requirement already satisfied: babel>=2.10 in c:\\users\\usuario\\appdata\\local\\packages\\pythonsoftwarefoundation.python.3.11_qbz5n2kfra8p0\\localcache\\local-packages\\python311\\site-packages (from jupyterlab-server<3,>=2.27.1->jupyterlab->jupyter) (2.17.0)\n",
      "Requirement already satisfied: json5>=0.9.0 in c:\\users\\usuario\\appdata\\local\\packages\\pythonsoftwarefoundation.python.3.11_qbz5n2kfra8p0\\localcache\\local-packages\\python311\\site-packages (from jupyterlab-server<3,>=2.27.1->jupyterlab->jupyter) (0.12.1)\n",
      "Requirement already satisfied: jsonschema>=4.18.0 in c:\\users\\usuario\\appdata\\local\\packages\\pythonsoftwarefoundation.python.3.11_qbz5n2kfra8p0\\localcache\\local-packages\\python311\\site-packages (from jupyterlab-server<3,>=2.27.1->jupyterlab->jupyter) (4.25.1)\n",
      "Requirement already satisfied: fastjsonschema>=2.15 in c:\\users\\usuario\\appdata\\local\\packages\\pythonsoftwarefoundation.python.3.11_qbz5n2kfra8p0\\localcache\\local-packages\\python311\\site-packages (from nbformat>=5.7->nbconvert->jupyter) (2.21.2)\n",
      "Requirement already satisfied: wcwidth in c:\\users\\usuario\\appdata\\local\\packages\\pythonsoftwarefoundation.python.3.11_qbz5n2kfra8p0\\localcache\\local-packages\\python311\\site-packages (from prompt-toolkit>=3.0.30->jupyter-console->jupyter) (0.2.13)\n",
      "Requirement already satisfied: soupsieve>1.2 in c:\\users\\usuario\\appdata\\local\\packages\\pythonsoftwarefoundation.python.3.11_qbz5n2kfra8p0\\localcache\\local-packages\\python311\\site-packages (from beautifulsoup4->nbconvert->jupyter) (2.8)\n",
      "Requirement already satisfied: markdown-it-py>=2.2.0 in c:\\users\\usuario\\appdata\\local\\packages\\pythonsoftwarefoundation.python.3.11_qbz5n2kfra8p0\\localcache\\local-packages\\python311\\site-packages (from rich->keras>=3.10.0->tensorflow) (4.0.0)\n",
      "Requirement already satisfied: sniffio>=1.1 in c:\\users\\usuario\\appdata\\local\\packages\\pythonsoftwarefoundation.python.3.11_qbz5n2kfra8p0\\localcache\\local-packages\\python311\\site-packages (from anyio->httpx<1,>=0.25.0->jupyterlab->jupyter) (1.3.1)\n",
      "Requirement already satisfied: argon2-cffi-bindings in c:\\users\\usuario\\appdata\\local\\packages\\pythonsoftwarefoundation.python.3.11_qbz5n2kfra8p0\\localcache\\local-packages\\python311\\site-packages (from argon2-cffi>=21.1->jupyter-server<3,>=2.4.0->jupyterlab->jupyter) (25.1.0)\n",
      "Requirement already satisfied: parso<0.9.0,>=0.8.4 in c:\\users\\usuario\\appdata\\local\\packages\\pythonsoftwarefoundation.python.3.11_qbz5n2kfra8p0\\localcache\\local-packages\\python311\\site-packages (from jedi>=0.16->ipython>=7.23.1->ipykernel->jupyter) (0.8.5)\n",
      "Requirement already satisfied: attrs>=22.2.0 in c:\\users\\usuario\\appdata\\local\\packages\\pythonsoftwarefoundation.python.3.11_qbz5n2kfra8p0\\localcache\\local-packages\\python311\\site-packages (from jsonschema>=4.18.0->jupyterlab-server<3,>=2.27.1->jupyterlab->jupyter) (25.3.0)\n",
      "Requirement already satisfied: jsonschema-specifications>=2023.03.6 in c:\\users\\usuario\\appdata\\local\\packages\\pythonsoftwarefoundation.python.3.11_qbz5n2kfra8p0\\localcache\\local-packages\\python311\\site-packages (from jsonschema>=4.18.0->jupyterlab-server<3,>=2.27.1->jupyterlab->jupyter) (2025.9.1)\n",
      "Requirement already satisfied: referencing>=0.28.4 in c:\\users\\usuario\\appdata\\local\\packages\\pythonsoftwarefoundation.python.3.11_qbz5n2kfra8p0\\localcache\\local-packages\\python311\\site-packages (from jsonschema>=4.18.0->jupyterlab-server<3,>=2.27.1->jupyterlab->jupyter) (0.36.2)\n",
      "Requirement already satisfied: rpds-py>=0.7.1 in c:\\users\\usuario\\appdata\\local\\packages\\pythonsoftwarefoundation.python.3.11_qbz5n2kfra8p0\\localcache\\local-packages\\python311\\site-packages (from jsonschema>=4.18.0->jupyterlab-server<3,>=2.27.1->jupyterlab->jupyter) (0.27.1)\n",
      "Requirement already satisfied: python-json-logger>=2.0.4 in c:\\users\\usuario\\appdata\\local\\packages\\pythonsoftwarefoundation.python.3.11_qbz5n2kfra8p0\\localcache\\local-packages\\python311\\site-packages (from jupyter-events>=0.11.0->jupyter-server<3,>=2.4.0->jupyterlab->jupyter) (3.3.0)\n",
      "Requirement already satisfied: pyyaml>=5.3 in c:\\users\\usuario\\appdata\\local\\packages\\pythonsoftwarefoundation.python.3.11_qbz5n2kfra8p0\\localcache\\local-packages\\python311\\site-packages (from jupyter-events>=0.11.0->jupyter-server<3,>=2.4.0->jupyterlab->jupyter) (6.0.2)\n",
      "Requirement already satisfied: rfc3339-validator in c:\\users\\usuario\\appdata\\local\\packages\\pythonsoftwarefoundation.python.3.11_qbz5n2kfra8p0\\localcache\\local-packages\\python311\\site-packages (from jupyter-events>=0.11.0->jupyter-server<3,>=2.4.0->jupyterlab->jupyter) (0.1.4)\n",
      "Requirement already satisfied: rfc3986-validator>=0.1.1 in c:\\users\\usuario\\appdata\\local\\packages\\pythonsoftwarefoundation.python.3.11_qbz5n2kfra8p0\\localcache\\local-packages\\python311\\site-packages (from jupyter-events>=0.11.0->jupyter-server<3,>=2.4.0->jupyterlab->jupyter) (0.1.1)\n",
      "Requirement already satisfied: mdurl~=0.1 in c:\\users\\usuario\\appdata\\local\\packages\\pythonsoftwarefoundation.python.3.11_qbz5n2kfra8p0\\localcache\\local-packages\\python311\\site-packages (from markdown-it-py>=2.2.0->rich->keras>=3.10.0->tensorflow) (0.1.2)\n",
      "Requirement already satisfied: executing>=1.2.0 in c:\\users\\usuario\\appdata\\local\\packages\\pythonsoftwarefoundation.python.3.11_qbz5n2kfra8p0\\localcache\\local-packages\\python311\\site-packages (from stack_data->ipython>=7.23.1->ipykernel->jupyter) (2.2.1)\n",
      "Requirement already satisfied: asttokens>=2.1.0 in c:\\users\\usuario\\appdata\\local\\packages\\pythonsoftwarefoundation.python.3.11_qbz5n2kfra8p0\\localcache\\local-packages\\python311\\site-packages (from stack_data->ipython>=7.23.1->ipykernel->jupyter) (3.0.0)\n",
      "Requirement already satisfied: pure-eval in c:\\users\\usuario\\appdata\\local\\packages\\pythonsoftwarefoundation.python.3.11_qbz5n2kfra8p0\\localcache\\local-packages\\python311\\site-packages (from stack_data->ipython>=7.23.1->ipykernel->jupyter) (0.2.3)\n",
      "Requirement already satisfied: fqdn in c:\\users\\usuario\\appdata\\local\\packages\\pythonsoftwarefoundation.python.3.11_qbz5n2kfra8p0\\localcache\\local-packages\\python311\\site-packages (from jsonschema[format-nongpl]>=4.18.0->jupyter-events>=0.11.0->jupyter-server<3,>=2.4.0->jupyterlab->jupyter) (1.5.1)\n",
      "Requirement already satisfied: isoduration in c:\\users\\usuario\\appdata\\local\\packages\\pythonsoftwarefoundation.python.3.11_qbz5n2kfra8p0\\localcache\\local-packages\\python311\\site-packages (from jsonschema[format-nongpl]>=4.18.0->jupyter-events>=0.11.0->jupyter-server<3,>=2.4.0->jupyterlab->jupyter) (20.11.0)\n",
      "Requirement already satisfied: jsonpointer>1.13 in c:\\users\\usuario\\appdata\\local\\packages\\pythonsoftwarefoundation.python.3.11_qbz5n2kfra8p0\\localcache\\local-packages\\python311\\site-packages (from jsonschema[format-nongpl]>=4.18.0->jupyter-events>=0.11.0->jupyter-server<3,>=2.4.0->jupyterlab->jupyter) (3.0.0)\n",
      "Requirement already satisfied: rfc3987-syntax>=1.1.0 in c:\\users\\usuario\\appdata\\local\\packages\\pythonsoftwarefoundation.python.3.11_qbz5n2kfra8p0\\localcache\\local-packages\\python311\\site-packages (from jsonschema[format-nongpl]>=4.18.0->jupyter-events>=0.11.0->jupyter-server<3,>=2.4.0->jupyterlab->jupyter) (1.1.0)\n",
      "Requirement already satisfied: uri-template in c:\\users\\usuario\\appdata\\local\\packages\\pythonsoftwarefoundation.python.3.11_qbz5n2kfra8p0\\localcache\\local-packages\\python311\\site-packages (from jsonschema[format-nongpl]>=4.18.0->jupyter-events>=0.11.0->jupyter-server<3,>=2.4.0->jupyterlab->jupyter) (1.3.0)\n",
      "Requirement already satisfied: webcolors>=24.6.0 in c:\\users\\usuario\\appdata\\local\\packages\\pythonsoftwarefoundation.python.3.11_qbz5n2kfra8p0\\localcache\\local-packages\\python311\\site-packages (from jsonschema[format-nongpl]>=4.18.0->jupyter-events>=0.11.0->jupyter-server<3,>=2.4.0->jupyterlab->jupyter) (24.11.1)\n",
      "Requirement already satisfied: cffi>=1.0.1 in c:\\users\\usuario\\appdata\\local\\packages\\pythonsoftwarefoundation.python.3.11_qbz5n2kfra8p0\\localcache\\local-packages\\python311\\site-packages (from argon2-cffi-bindings->argon2-cffi>=21.1->jupyter-server<3,>=2.4.0->jupyterlab->jupyter) (2.0.0)\n",
      "Requirement already satisfied: pycparser in c:\\users\\usuario\\appdata\\local\\packages\\pythonsoftwarefoundation.python.3.11_qbz5n2kfra8p0\\localcache\\local-packages\\python311\\site-packages (from cffi>=1.0.1->argon2-cffi-bindings->argon2-cffi>=21.1->jupyter-server<3,>=2.4.0->jupyterlab->jupyter) (2.23)\n",
      "Requirement already satisfied: lark>=1.2.2 in c:\\users\\usuario\\appdata\\local\\packages\\pythonsoftwarefoundation.python.3.11_qbz5n2kfra8p0\\localcache\\local-packages\\python311\\site-packages (from rfc3987-syntax>=1.1.0->jsonschema[format-nongpl]>=4.18.0->jupyter-events>=0.11.0->jupyter-server<3,>=2.4.0->jupyterlab->jupyter) (1.2.2)\n",
      "Requirement already satisfied: arrow>=0.15.0 in c:\\users\\usuario\\appdata\\local\\packages\\pythonsoftwarefoundation.python.3.11_qbz5n2kfra8p0\\localcache\\local-packages\\python311\\site-packages (from isoduration->jsonschema[format-nongpl]>=4.18.0->jupyter-events>=0.11.0->jupyter-server<3,>=2.4.0->jupyterlab->jupyter) (1.3.0)\n",
      "Requirement already satisfied: types-python-dateutil>=2.8.10 in c:\\users\\usuario\\appdata\\local\\packages\\pythonsoftwarefoundation.python.3.11_qbz5n2kfra8p0\\localcache\\local-packages\\python311\\site-packages (from arrow>=0.15.0->isoduration->jsonschema[format-nongpl]>=4.18.0->jupyter-events>=0.11.0->jupyter-server<3,>=2.4.0->jupyterlab->jupyter) (2.9.0.20250822)\n",
      "Using cached jupyter-1.1.1-py2.py3-none-any.whl (2.7 kB)\n",
      "Using cached tensorflow-2.20.0-cp311-cp311-win_amd64.whl (331.8 MB)\n",
      "Using cached jupyterlab-4.4.7-py3-none-any.whl (12.3 MB)\n",
      "Using cached nbconvert-7.16.6-py3-none-any.whl (258 kB)\n",
      "Using cached notebook-7.4.5-py3-none-any.whl (14.3 MB)\n",
      "Using cached jupyter_lsp-2.3.0-py3-none-any.whl (76 kB)\n",
      "Using cached jupyter_server-2.17.0-py3-none-any.whl (388 kB)\n",
      "Using cached jupyterlab_server-2.27.3-py3-none-any.whl (59 kB)\n",
      "Using cached nbclient-0.10.2-py3-none-any.whl (25 kB)\n",
      "Using cached nbformat-5.10.4-py3-none-any.whl (78 kB)\n",
      "Using cached notebook_shim-0.2.4-py3-none-any.whl (13 kB)\n",
      "Using cached jupyter_events-0.12.0-py3-none-any.whl (19 kB)\n",
      "Installing collected packages: tensorflow, nbformat, nbclient, jupyter-events, nbconvert, jupyter-server, notebook-shim, jupyterlab-server, jupyter-lsp, jupyterlab, notebook, jupyter\n",
      "Note: you may need to restart the kernel to use updated packages.\n"
     ]
    },
    {
     "name": "stderr",
     "output_type": "stream",
     "text": [
      "ERROR: Could not install packages due to an OSError: [Errno 2] No such file or directory: 'C:\\\\Users\\\\USUARIO\\\\AppData\\\\Local\\\\Packages\\\\PythonSoftwareFoundation.Python.3.11_qbz5n2kfra8p0\\\\LocalCache\\\\local-packages\\\\Python311\\\\site-packages\\\\tensorflow\\\\include\\\\external\\\\com_github_grpc_grpc\\\\src\\\\core\\\\ext\\\\filters\\\\fault_injection\\\\fault_injection_service_config_parser.h'\n",
      "HINT: This error might have occurred since this system does not have Windows Long Path support enabled. You can find information on how to enable this at https://pip.pypa.io/warnings/enable-long-paths\n",
      "\n",
      "\n",
      "[notice] A new release of pip is available: 24.0 -> 25.2\n",
      "[notice] To update, run: C:\\Users\\USUARIO\\AppData\\Local\\Microsoft\\WindowsApps\\PythonSoftwareFoundation.Python.3.11_qbz5n2kfra8p0\\python.exe -m pip install --upgrade pip\n"
     ]
    }
   ],
   "source": [
    "%pip install numpy matplotlib pandas jupyter scikit-learn tensorflow\n"
   ]
  },
  {
   "cell_type": "code",
   "execution_count": 53,
   "metadata": {
    "id": "hWmbqLmNWw-n"
   },
   "outputs": [],
   "source": [
    "import numpy as np\n",
    "from abc import ABC, abstractmethod"
   ]
  },
  {
   "cell_type": "markdown",
   "metadata": {
    "id": "wAjCMgrWfinl"
   },
   "source": [
    "### FUNCIONES DE BASE: MÉTRICA, COSTO Y ACTIVACIÓN"
   ]
  },
  {
   "cell_type": "markdown",
   "metadata": {
    "id": "F6akod1Zlu0u"
   },
   "source": [
    "![image.png](data:image/png;base64,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)"
   ]
  },
  {
   "cell_type": "markdown",
   "metadata": {
    "id": "haWIH62kNQtS"
   },
   "source": [
    "### MÉTRICA"
   ]
  },
  {
   "cell_type": "code",
   "execution_count": 54,
   "metadata": {
    "id": "I37WpNyVP5jr"
   },
   "outputs": [],
   "source": [
    "class Metric(ABC):\n",
    "  \"\"\" Abstracta: define entradas, salidas y el comportamiento inicial de los métodos clave para cualquier metrica\n",
    "  Representa la metrica de una red neuronal\n",
    "  \"\"\"\n",
    "  @abstractmethod \n",
    "  def use(self, name: str) -> \"Metric\":\n",
    "    \"\"\" obtiene metrica (OBJ) a partir del nombre\n",
    "    Args:\n",
    "      name (str): nombre esperado de la metrica\n",
    "    Returns:\n",
    "      self (Metric): objeto metrica\n",
    "    \"\"\"\n",
    "    pass\n",
    "  @abstractmethod\n",
    "  def value(self, Y: np.ndarray, Yp:np.ndarray):\n",
    "    \"\"\" computa el desempeño (accuracy) de la red (> 0.6 es 1)\n",
    "    Args:\n",
    "      Y (ndarray): valores de salidas esperadas (etiquetadas)\n",
    "      Yp (ndarray): valores de salidas obtenidas\n",
    "    Return:\n",
    "      A (float): valor del desempeño\n",
    "    \"\"\"\n",
    "    pass"
   ]
  },
  {
   "cell_type": "code",
   "execution_count": 55,
   "metadata": {
    "id": "4exjI4Ng_P0k"
   },
   "outputs": [],
   "source": [
    "class Accuracy(Metric):\n",
    "  \"\"\" Metrica de exactitud (acertados / totales). Implementa Metric\n",
    "  \"\"\"\n",
    "  def use(self, name: str) -> \"Metric\":\n",
    "      if name.lower() == \"accuracy\":\n",
    "          return self\n",
    "      else:\n",
    "          raise ValueError(f\"Métrica '{name}' no soportada\")\n",
    "\n",
    "  def value(self, Y: np.ndarray, Yp: np.ndarray) -> float:\n",
    "      # normalizamos las dimensiones (ej: one-hot -> clase)\n",
    "      if Y.ndim > 1:\n",
    "          Y = np.argmax(Y, axis=1)\n",
    "      if Yp.ndim > 1:\n",
    "          Yp = np.argmax(Yp, axis=1)\n",
    "\n",
    "      # calculamos exactitud\n",
    "      accuracy = np.mean(Y == Yp)\n",
    "\n",
    "      # regla del docstring (>0.6 → 1, si no → valor real)\n",
    "      return 1.0 if accuracy > 0.6 else accuracy"
   ]
  },
  {
   "cell_type": "code",
   "execution_count": 56,
   "metadata": {
    "id": "OC2bItOKKHQX"
   },
   "outputs": [
    {
     "name": "stdout",
     "output_type": "stream",
     "text": [
      "Desempeño: 1.0\n"
     ]
    }
   ],
   "source": [
    "# Adicione los casos de prueba de los métodos implementados\n",
    "if __name__ == \"__main__\":\n",
    "    Y_true = np.array([0, 1, 1, 0, 1])\n",
    "    Y_pred = np.array([0, 1, 0, 0, 1])\n",
    "\n",
    "    metric = Accuracy().use(\"accuracy\")\n",
    "    result = metric.value(Y_true, Y_pred)\n",
    "    print(\"Desempeño:\", result)"
   ]
  },
  {
   "cell_type": "markdown",
   "metadata": {
    "id": "8ZrAmWV0Nnyb"
   },
   "source": [
    "###COSTO"
   ]
  },
  {
   "cell_type": "code",
   "execution_count": 57,
   "metadata": {
    "id": "MUpdVUmb8dCS"
   },
   "outputs": [],
   "source": [
    "class Cost(ABC):\n",
    "  \"\"\" Abstracta: define entradas, salidas y el comportamiento inicial de los métodos clave para cualquier función de costo\n",
    "  Representa la función de costo o error de una red neuronal\n",
    "  \"\"\"\n",
    "  @abstractmethod\n",
    "  def use(self, name: str) -> \"Cost\":\n",
    "    \"\"\" obtiene función de costo (OBJ) a partir del nombre\n",
    "    Args:\n",
    "      name (str): nombre esperado de la función\n",
    "    Returns:\n",
    "      self (Cost): objeto función de costo\n",
    "    \"\"\"\n",
    "    pass\n",
    "  @abstractmethod\n",
    "  def value(self, Y: np.ndarray, Yp: np.ndarray) -> float:\n",
    "    \"\"\" computa la función de costo\n",
    "    Args:\n",
    "      Y (ndarray): valores de salida obtenidos\n",
    "      Yp (ndarray): valores de salida esperados\n",
    "    Returns:\n",
    "      S (float): valor de computo de la función de costo\n",
    "    \"\"\"\n",
    "    pass\n",
    "  @abstractmethod\n",
    "  def derivative(self, Y: np.ndarray, Yp: np.ndarray) -> np.ndarray:\n",
    "    \"\"\" computa la derivada de la función de costo (gradiente) <elemento por elemento>\n",
    "    Args:\n",
    "      Y (ndarray): valores de salida obtenidos\n",
    "      Yp (ndarray): valores de salida esperados\n",
    "    Returns:\n",
    "      ∇E(X) (ndarray): valores para la derivada de función de costo\n",
    "    \"\"\"\n",
    "    pass"
   ]
  },
  {
   "cell_type": "code",
   "execution_count": 58,
   "metadata": {
    "id": "MNbNxSEEP0YM"
   },
   "outputs": [],
   "source": [
    "# Documentar los métodos implementados\n",
    "class CrossEntropy(Cost):\n",
    "  \"\"\" Función de costo Entropia Cruzada. Implementa Cost\n",
    "  \"\"\"\n",
    "\n",
    "  \"\"\" obtiene función de costo (OBJ) a partir del nombre\n",
    "    Args:\n",
    "      name (str): nombre esperado de la función\n",
    "    Returns:\n",
    "      self (Cost): objeto función de costo\n",
    "    \"\"\"\n",
    "  def use(self, name: str) -> \"Cost\":\n",
    "\n",
    "    if name.lower() in [\"crossentropy\", \"cross_entropy\"]: return self\n",
    "\n",
    "    else: raise ValueError(f\"Función de costo {name} no soportada\")\n",
    "\n",
    "  def CrossEntropy(self):\n",
    "    pass\n",
    "\n",
    "  \"\"\" computa la función de costo CrossEntropy\n",
    "    Args:\n",
    "      Y (ndarray): valores de salida esperados (one-hot encoded)\n",
    "      Yp (ndarray): valores de salida obtenidos (probabilidades)\n",
    "    Returns:\n",
    "      S (float): valor de computo de la función de costo\n",
    "    \"\"\"\n",
    "  def value(self, Y: np.ndarray, Yp: np.ndarray) -> float:\n",
    "    \n",
    "    Yp = np.clip(Yp, 1e-15, 1 - 1e-15)\n",
    "    \n",
    "    #-Σ(y * log(yp)) / N\n",
    "    cross_entropy = -np.sum(Y * np.log(Yp)) / Y.shape[0]\n",
    "    return cross_entropy\n",
    "  \n",
    "  \"\"\" computa la derivada de la función de costo (gradiente)\n",
    "    Args:\n",
    "      Y (ndarray): valores de salida esperados (one-hot encoded)\n",
    "      Yp (ndarray): valores de salida obtenidos (probabilidades)\n",
    "    Returns:\n",
    "      ∇E(X) (ndarray): valores para la derivada de función de costo\n",
    "    \"\"\"\n",
    "  def derivative(self, Y: np.ndarray, Yp: np.ndarray) -> np.ndarray:\n",
    "   gradiente = (Yp -Y)/ Y.shape[0]\n",
    "   return gradiente\n",
    "\n",
    "  "
   ]
  },
  {
   "cell_type": "code",
   "execution_count": 59,
   "metadata": {
    "id": "bVg_e-x8KJf_"
   },
   "outputs": [
    {
     "name": "stdout",
     "output_type": "stream",
     "text": [
      "CrossEntropy value: 0.14462152754328741\n",
      "CrossEntropy derivative:\n",
      " [[-0.03333333  0.01666667  0.01666667]\n",
      " [ 0.03333333 -0.06666667  0.03333333]\n",
      " [ 0.01666667  0.01666667 -0.03333333]]\n",
      "CrossEntropy value (error): 1.6094379124341003\n",
      "CrossEntropy derivative (error):\n",
      " [[-0.8  0.7  0.1]]\n"
     ]
    }
   ],
   "source": [
    "# Adicione los casos de prueba de los métodos implementados\n",
    "\n",
    "cross_entropy = CrossEntropy()\n",
    "Y = np.array([[1, 0, 0], [0, 1, 0], [0, 0, 1]])\n",
    "Yp = np.array([[0.9, 0.05, 0.05], [0.1, 0.8, 0.1], [0.05, 0.05, 0.9]])\n",
    "\n",
    "ce_value = cross_entropy.value(Y, Yp)\n",
    "print(\"CrossEntropy value:\", ce_value) \n",
    "\n",
    "ce_derivative = cross_entropy.derivative(Y, Yp)\n",
    "print(\"CrossEntropy derivative:\\n\", ce_derivative)  \n",
    "\n",
    "# Caso con error\n",
    "Y2 = np.array([[1, 0, 0]])\n",
    "Yp2 = np.array([[0.2, 0.7, 0.1]])\n",
    "\n",
    "ce_value2 = cross_entropy.value(Y2, Yp2)\n",
    "print(\"CrossEntropy value (error):\", ce_value2) \n",
    "\n",
    "ce_derivative2 = cross_entropy.derivative(Y2, Yp2)\n",
    "print(\"CrossEntropy derivative (error):\\n\", ce_derivative2)"
   ]
  },
  {
   "cell_type": "markdown",
   "metadata": {},
   "source": []
  },
  {
   "cell_type": "markdown",
   "metadata": {
    "id": "oLpHHuubNrFx"
   },
   "source": [
    "### ACTIVACION"
   ]
  },
  {
   "cell_type": "code",
   "execution_count": 60,
   "metadata": {
    "id": "94Cy0u6bWupv"
   },
   "outputs": [],
   "source": [
    "from abc import ABC, abstractmethod\n",
    "\n",
    "class Activation(ABC):\n",
    "  \"\"\" Abstracta: define entradas, salidas y el comportamiento inicial de los métodos clave de cualquier función de activación\n",
    "  Representa la función de activación de cualquier neurona en la red neuronal\n",
    "  \"\"\"\n",
    "  @abstractmethod\n",
    "  def use(self, name: str) -> \"Activation\":\n",
    "    \"\"\" obtiene función de activación (OBJ) a partir del nombre\n",
    "    Args:\n",
    "      name (str): nombre esperado de la función\n",
    "    Returns:\n",
    "      self (Activation): objeto función de activación\n",
    "    \"\"\"\n",
    "    pass\n",
    "  @abstractmethod\n",
    "  def value(self, X: np.ndarray) -> np.ndarray:\n",
    "    \"\"\" computa la función de activación <elemento por elemento>\n",
    "    Args:\n",
    "      X (ndarray): valores de entrada\n",
    "    Returns:\n",
    "      S (ndarray): valores de computo de la función de activación\n",
    "    \"\"\"\n",
    "    pass\n",
    "  @abstractmethod\n",
    "  def derivative(self, X: np.ndarray) -> np.ndarray:\n",
    "    \"\"\" computa la derivada de la función de activación (gradiente) <elemento por elemento>\n",
    "    Args:\n",
    "      X (ndarray): valores de entrada\n",
    "    Returns:\n",
    "      ∇E(X) (ndarray): valores para la derivada de función de activación\n",
    "    \"\"\"\n",
    "    pass"
   ]
  },
  {
   "cell_type": "code",
   "execution_count": 77,
   "metadata": {
    "id": "FOhmhNVeVnod"
   },
   "outputs": [],
   "source": [
    "# Documentar los métodos implementados\n",
    "class Sigmoid(Activation):\n",
    "  \"\"\" Función de activación sigmoide. Implementa Activación\n",
    "  \"\"\"\n",
    "\n",
    "  \"\"\"constructor de la clase Sigmoid\"\"\"\n",
    "  def Sigmoid(self):\n",
    "    pass\n",
    "\n",
    "  def use(self, name: str) -> \"Activation\":\n",
    "        if name.lower() in [\"sigmoid\"]:\n",
    "            return self\n",
    "        else:\n",
    "            raise ValueError(f\"Función de activación {name} no soportada\")\n",
    "        \n",
    "  def value(self, X: np.ndarray) -> np.ndarray:\n",
    "    X = np.clip(X,-500,500)\n",
    "\n",
    "    return 1/ (1 + np.exp(-X))\n",
    "\n",
    "  \"\"\" computa la derivada de la función de activación sigmoide\n",
    "        Args:\n",
    "          X (ndarray): valores de entrada\n",
    "        Returns:\n",
    "          dA (ndarray): valores para la derivada de función de activación\n",
    "        \"\"\"\n",
    "  def derivative(self, X: np.ndarray) -> np.ndarray:\n",
    "    s = self.value(X)\n",
    "    return s * (1-s)"
   ]
  },
  {
   "cell_type": "code",
   "execution_count": 78,
   "metadata": {
    "id": "9Qw21AgfcrjU"
   },
   "outputs": [],
   "source": [
    "# Documentar los métodos implementados\n",
    "class Relu(Activation):\n",
    "  \"\"\" Función de activación RELU. Implementa Activación\n",
    "  \"\"\"\n",
    "\n",
    "  \"\"\"Constructor de la clase Relu\"\"\"\n",
    "  def ReLu(self):\n",
    "    pass\n",
    "\n",
    "\n",
    "  def use(self, name: str) -> \"Activation\":\n",
    "      if name.lower() in [\"relu\", \"rectified linear unit\"]:\n",
    "          return self\n",
    "      else:\n",
    "          raise ValueError(f\"Función de activación {name} no soportada\")\n",
    "\n",
    "  \"\"\" computa la función de activación ReLU\n",
    "        Args:\n",
    "          X (ndarray): valores de entrada\n",
    "        Returns:\n",
    "          A (ndarray): valores de activación\n",
    "        \"\"\"\n",
    "  def value(self, X: np.ndarray) -> np.ndarray:\n",
    "    return np.maximum(0,X)\n",
    "\n",
    "  \"\"\" computa la derivada de la función de activación ReLU\n",
    "        Args:\n",
    "          Z (ndarray): valores de entrada\n",
    "        Returns:\n",
    "          dA (ndarray): valores para la derivada de función de activación\n",
    "  \"\"\"\n",
    "  def derivative(self, X: np.ndarray) -> np.ndarray:\n",
    "    return np.where(X >0,1,0)"
   ]
  },
  {
   "cell_type": "code",
   "execution_count": 63,
   "metadata": {
    "id": "I1eEGZnRO9k7"
   },
   "outputs": [
    {
     "name": "stdout",
     "output_type": "stream",
     "text": [
      "Sigmoid: [0.11920292 0.26894142 0.5        0.73105858 0.88079708]\n",
      "Sigmoid Derivative: [0.10499359 0.19661193 0.25       0.19661193 0.10499359]\n",
      "ReLU: [0 0 0 1 2]\n",
      "ReLU Derivative: [0 0 0 1 1]\n",
      "Sigmoid matriz: [[0.26894142 0.5        0.73105858]\n",
      " [0.88079708 0.11920292 0.5       ]]\n",
      "ReLU matriz: [[0 0 1]\n",
      " [2 0 0]]\n"
     ]
    }
   ],
   "source": [
    "# Adicione los casos de prueba de los métodos implementados\n",
    "# Casos de prueba para funciones de activación: Sigmoid y ReLU\n",
    "import numpy as np\n",
    "\n",
    "Sigmoid = Sigmoid()\n",
    "Relu = Relu()\n",
    "\n",
    "# Pruebas para Sigmoid\n",
    "x_sigmoid = np.array([-2, -1, 0, 1, 2])\n",
    "print(\"Sigmoid:\", Sigmoid.value(x_sigmoid))\n",
    "print(\"Sigmoid Derivative:\", Sigmoid.derivative(x_sigmoid))\n",
    "\n",
    "# Pruebas para ReLU\n",
    "x_relu = np.array([-2, -1, 0, 1, 2])\n",
    "print(\"ReLU:\", Relu.value(x_relu))\n",
    "print(\"ReLU Derivative:\", Relu.derivative(x_relu))\n",
    "\n",
    "# Pruebas con matrices\n",
    "matriz = np.array([[-1, 0, 1], [2, -2, 0]])\n",
    "print(\"Sigmoid matriz:\", Sigmoid.value(matriz))\n",
    "print(\"ReLU matriz:\", Relu.value(matriz))"
   ]
  },
  {
   "cell_type": "markdown",
   "metadata": {
    "id": "vj5_3KgEgFdH"
   },
   "source": [
    "## RED NEURONAL TOTALMENTE CONECTADA «DENSE»"
   ]
  },
  {
   "cell_type": "markdown",
   "metadata": {
    "id": "ttzXxMPod2UM"
   },
   "source": [
    "####Nomenclatura\n",
    "* **Datos**\n",
    "  - *c*: número de características\n",
    "  - *m*: número de ejemplares\n",
    "  - **x**, **X** : entradas. Un ejemplo (c) o todos los ejemplos (cxm)\n",
    "  - **y**, **Y** : salidas reales. Un ejemplo (cx1) o todos los ejemplos(cxm)\n",
    "  - **yp**, **Yp** : salidas estimadas. Un ejemplo (cx1) o todos los ejemplos(cxm)\n",
    "* **Arquitectura**\n",
    "  - *L*: número de capas\n",
    "  - **layers**: **n**[*0*] = c, **layers**[*i*] número de neuronas de la capa *i*\n",
    "* **Parámetros**\n",
    "  - **W**: pesos de una capa (**layers**[*l+1*]x**layers**[*l*])\n",
    "  - **b**: sesgos de una capa (**n**[*l* ]x1)\n",
    "\n",
    "* **Gradientes**\n",
    "  - **dW**: gradiente de **W**\n",
    "  - **db**: gradiente de **b**"
   ]
  },
  {
   "cell_type": "markdown",
   "metadata": {
    "id": "PDxB4wCzSGRV"
   },
   "source": [
    "*Incluya en este apartado el proceso de la derivación de los gradientes*\n",
    "\n",
    "---\n",
    "**Gradiente dW**\n",
    "\n",
    "\n",
    "---\n",
    "**Graciente db**\n"
   ]
  },
  {
   "cell_type": "markdown",
   "metadata": {
    "id": "fC8DJwG2ywA0"
   },
   "source": [
    "![image.png](data:image/png;base64,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)"
   ]
  },
  {
   "cell_type": "code",
   "execution_count": 74,
   "metadata": {
    "id": "8Pb9SKdlO5ou"
   },
   "outputs": [],
   "source": [
    "import numpy as np\n",
    "\n",
    "class DenseANN:\n",
    "    \"\"\" Representa una red neuronal totalmente conectada \"\"\"\n",
    "\n",
    "    def __init__(self, layers: list, learning_rate: float, activations: list):\n",
    "        \"\"\" \n",
    "        Inicializar las capas de la red neuronal.\n",
    "        Args:\n",
    "          layers (list): arquitectura de la red -> [n_entradas, n_oculta1, ..., n_salida]\n",
    "          learning_rate (float): tasa de aprendizaje\n",
    "          activations (list): lista con función de activación por capa (excepto entrada)\n",
    "                              ej: [\"relu\", \"sigmoid\"]\n",
    "        \"\"\"\n",
    "        assert len(activations) == len(layers) - 1, \"activations debe tener len(layers)-1 elementos\"\n",
    "        self.architecture = list(layers)\n",
    "        self.learning_rate = learning_rate\n",
    "        self.layers = []\n",
    "\n",
    "        # Crear las DenseLayer (se asume que DenseLayer está definida en el notebook)\n",
    "        for i in range(1, len(layers)):\n",
    "            layer = DenseLayer(\n",
    "                input_size=layers[i-1],\n",
    "                neurons=layers[i],\n",
    "                activation=activations[i-1],\n",
    "                learning_rate=learning_rate\n",
    "            )\n",
    "            self.layers.append(layer)\n",
    "\n",
    "    def predict(self, X: np.ndarray) -> np.ndarray:\n",
    "        \"\"\" \n",
    "        Computa valores de predicción a partir de las entradas.\n",
    "        Args:\n",
    "          X (ndarray): entradas (shape: n_features x n_examples)\n",
    "        Return:\n",
    "          Yp (ndarray): salidas de la red\n",
    "        \"\"\"\n",
    "        return self.forward(X)\n",
    "\n",
    "    def forward(self, X: np.ndarray) -> np.ndarray:\n",
    "        \"\"\" Propagación hacia adelante \"\"\"\n",
    "        A = X\n",
    "        for layer in self.layers:\n",
    "            A = layer.forward(A)\n",
    "        return A\n",
    "\n",
    "    def backward(self, dA: np.ndarray) -> np.ndarray:\n",
    "        \"\"\" Propagación hacia atrás (retropropagación).\n",
    "        Actualiza parámetros llamando a update_parameters() en cada capa.\n",
    "        Args:\n",
    "          dA (ndarray): gradiente inicial (ej: derivada del costo respecto a la salida)\n",
    "        Return:\n",
    "          dA_prev (ndarray): gradiente propagado hacia la capa anterior\n",
    "        \"\"\"\n",
    "        for layer in reversed(self.layers):\n",
    "            dA = layer.backward(dA)\n",
    "            layer.update_parameters()\n",
    "        return dA\n",
    "\n",
    "    def train(self, X: np.ndarray, Y: np.ndarray, epochs: int = 1000, \n",
    "              print_cost: bool = True, do_graphic: bool = False):\n",
    "        \"\"\" Entrenar red neuronal (costo temporal: MSE).\n",
    "        Args:\n",
    "          X, Y: datos (X shape: n_features x m, Y shape: n_outputs x m)\n",
    "        \"\"\"\n",
    "        costs = []\n",
    "        m = Y.shape[1]\n",
    "\n",
    "        for i in range(epochs):\n",
    "            # Forward\n",
    "            Yp = self.forward(X)\n",
    "\n",
    "            # Cost (temporal: MSE)\n",
    "            cost = np.mean((Y - Yp) ** 2)\n",
    "            costs.append(cost)\n",
    "\n",
    "            # Backward (gradiente MSE)\n",
    "            dA = -(2 / m) * (Y - Yp)\n",
    "            self.backward(dA)\n",
    "\n",
    "            # Logs\n",
    "            if print_cost and i % 100 == 0:\n",
    "                print(f\"Epoch {i}: cost={cost:.6f}\")\n",
    "\n",
    "        if do_graphic:\n",
    "            import matplotlib.pyplot as plt\n",
    "            plt.plot(costs)\n",
    "            plt.xlabel(\"Épocas\")\n",
    "            plt.ylabel(\"Costo (MSE)\")\n",
    "            plt.title(\"Evolución del costo\")\n",
    "            plt.show()\n",
    "\n",
    "    def shapes(self):\n",
    "        \"\"\" \n",
    "        Genera los valores asociados al tamaño de la red.\n",
    "        Return:\n",
    "          tuple con la arquitectura (n_input, n_hidden..., n_output)\n",
    "        \"\"\"\n",
    "        return tuple(self.architecture)\n",
    "\n",
    "    def to_string(self, detail: bool = False) -> str:\n",
    "        \"\"\"\n",
    "        Retorna representación textual de la red.\n",
    "        Args:\n",
    "          detail (bool): si True, devuelve detalle por capa (llama layer.to_string(detail=True))\n",
    "        \"\"\"\n",
    "        if detail:\n",
    "            lines = [f\"DenseANN: architecture={self.architecture}, learning_rate={self.learning_rate}\"]\n",
    "            for i, layer in enumerate(self.layers, start=1):\n",
    "                # se asume que DenseLayer tiene to_string(detail:bool)\n",
    "                try:\n",
    "                    layer_info = layer.to_string(detail=True)\n",
    "                except TypeError:\n",
    "                    layer_info = layer.to_string()  # compatibilidad si firma distinta\n",
    "                lines.append(f\"  Capa {i}: {layer_info}\")\n",
    "            return \"\\n\".join(lines)\n",
    "        else:\n",
    "            return f\"DenseANN(arch={self.architecture}, layers={len(self.layers)}, lr={self.learning_rate})\"\n"
   ]
  },
  {
   "cell_type": "markdown",
   "metadata": {
    "id": "Ysfn3-Baf7o7"
   },
   "source": [
    "## CAPA CON PERCEPTRONES"
   ]
  },
  {
   "cell_type": "code",
   "execution_count": 81,
   "metadata": {
    "id": "j-q_6wDNed-s"
   },
   "outputs": [],
   "source": [
    "import numpy as np\n",
    "from typing import Union\n",
    "\n",
    "class DenseLayer:\n",
    "    def __init__(self, input_size, neurons, activation, learning_rate=0.01):\n",
    "        self.input_size = input_size\n",
    "        self.neurons = neurons\n",
    "        self.learning_rate = learning_rate\n",
    "\n",
    "        # Pesos y bias inicializados aleatoriamente\n",
    "        self.W = np.random.randn(neurons, input_size) * 0.01\n",
    "        self.b = np.zeros((neurons, 1))\n",
    "\n",
    "        # Escoger activación\n",
    "        if activation == \"sigmoid\":\n",
    "            self.activation = Sigmoid()\n",
    "        elif activation == \"relu\":\n",
    "            self.activation = Relu()\n",
    "        else:\n",
    "            raise ValueError(\"Función de activación no soportada.\")\n",
    "\n",
    "    def forward(self, A_prev):\n",
    "        self.A_prev = A_prev\n",
    "        self.Z = np.dot(self.W, A_prev) + self.b\n",
    "        self.A = self.activation.value(self.Z)   # << CORREGIDO\n",
    "        return self.A\n",
    "\n",
    "    def backward(self, dA):\n",
    "        m = self.A_prev.shape[1]\n",
    "        dZ = dA * self.activation.derivative(self.Z)   # << CORREGIDO\n",
    "        self.dW = (1/m) * np.dot(dZ, self.A_prev.T)\n",
    "        self.db = (1/m) * np.sum(dZ, axis=1, keepdims=True)\n",
    "        dA_prev = np.dot(self.W.T, dZ)\n",
    "        return dA_prev\n",
    "\n",
    "    def update_parameters(self):\n",
    "        self.W -= self.learning_rate * self.dW\n",
    "        self.b -= self.learning_rate * self.db\n",
    "\n",
    "    def shapes(self):\n",
    "        return self.W.shape, self.b.shape\n",
    "\n",
    "    def to_string(self, detail: bool = False) -> str:\n",
    "        if detail:\n",
    "            return f\"DenseLayer(neurons={self.W.shape[0]}, input={self.W.shape[1]}, activation={self.activation.__class__.__name__})\"\n",
    "        return f\"DenseLayer({self.W.shape[0]})\"\n"
   ]
  },
  {
   "cell_type": "code",
   "execution_count": 82,
   "metadata": {
    "id": "4Dj3iph_KYsv"
   },
   "outputs": [
    {
     "name": "stdout",
     "output_type": "stream",
     "text": [
      "Epoch 0: cost=0.250008\n",
      "Epoch 100: cost=0.220753\n",
      "Epoch 200: cost=0.202563\n",
      "Epoch 300: cost=0.189344\n",
      "Epoch 400: cost=0.178591\n",
      "Epoch 500: cost=0.169253\n",
      "Epoch 600: cost=0.160877\n",
      "Epoch 700: cost=0.153257\n",
      "Epoch 800: cost=0.146289\n",
      "Epoch 900: cost=0.139900\n",
      "Epoch 1000: cost=0.134035\n",
      "Epoch 1100: cost=0.128641\n",
      "Epoch 1200: cost=0.123669\n",
      "Epoch 1300: cost=0.119075\n",
      "Epoch 1400: cost=0.114819\n",
      "Epoch 1500: cost=0.110865\n",
      "Epoch 1600: cost=0.107183\n",
      "Epoch 1700: cost=0.103744\n",
      "Epoch 1800: cost=0.100523\n",
      "Epoch 1900: cost=0.097500\n",
      "Epoch 2000: cost=0.094656\n",
      "Epoch 2100: cost=0.091975\n",
      "Epoch 2200: cost=0.089441\n",
      "Epoch 2300: cost=0.087043\n",
      "Epoch 2400: cost=0.084768\n",
      "Epoch 2500: cost=0.082606\n",
      "Epoch 2600: cost=0.080550\n",
      "Epoch 2700: cost=0.078590\n",
      "Epoch 2800: cost=0.076720\n",
      "Epoch 2900: cost=0.074932\n",
      "Epoch 3000: cost=0.073222\n",
      "Epoch 3100: cost=0.071584\n",
      "Epoch 3200: cost=0.070014\n",
      "Epoch 3300: cost=0.068506\n",
      "Epoch 3400: cost=0.067057\n",
      "Epoch 3500: cost=0.065664\n",
      "Epoch 3600: cost=0.064324\n",
      "Epoch 3700: cost=0.063032\n",
      "Epoch 3800: cost=0.061787\n",
      "Epoch 3900: cost=0.060586\n",
      "Epoch 4000: cost=0.059426\n",
      "Epoch 4100: cost=0.058306\n",
      "Epoch 4200: cost=0.057223\n",
      "Epoch 4300: cost=0.056176\n",
      "Epoch 4400: cost=0.055163\n",
      "Epoch 4500: cost=0.054182\n",
      "Epoch 4600: cost=0.053231\n",
      "Epoch 4700: cost=0.052310\n",
      "Epoch 4800: cost=0.051417\n",
      "Epoch 4900: cost=0.050551\n"
     ]
    },
    {
     "data": {
      "image/png": "[encoded data removed]",
      "text/plain": [
       "<Figure size 640x480 with 1 Axes>"
      ]
     },
     "metadata": {},
     "output_type": "display_data"
    },
    {
     "name": "stdout",
     "output_type": "stream",
     "text": [
      "\n",
      "=== Resultados finales ===\n",
      "Entradas:\n",
      " [[0 0 1 1]\n",
      " [0 1 0 1]]\n",
      "Esperado:\n",
      " [[0 0 0 1]]\n",
      "Predicciones continuas:\n",
      " [[0.0381233  0.23634991 0.2363056  0.70728255]]\n",
      "Predicciones binarias:\n",
      " [[0 0 0 1]]\n",
      "\n",
      "Explicación:\n",
      "- El perceptrón entrenado logra aprender la función AND.\n",
      "- Para (0,0), (0,1), (1,0) la salida es cercana a 0.\n",
      "- Para (1,1) la salida es cercana a 1.\n",
      "- Como usamos sigmoide, las salidas son valores continuos en (0,1),\n",
      "  que luego se umbralizan a 0 o 1.\n",
      "\n"
     ]
    }
   ],
   "source": [
    "import numpy as np\n",
    "import matplotlib.pyplot as plt\n",
    "\n",
    "# ==========================\n",
    "# Dataset: Operador lógico AND\n",
    "# ==========================\n",
    "X = np.array([\n",
    "    [0, 0, 1, 1],\n",
    "    [0, 1, 0, 1]\n",
    "])  # shape: (2, 4)\n",
    "\n",
    "Y = np.array([[0, 0, 0, 1]])  # shape: (1, 4)\n",
    "\n",
    "# ==========================\n",
    "# Definición de la red (Perceptrón)\n",
    "# ==========================\n",
    "# Arquitectura: 2 entradas -> 1 salida con Sigmoid\n",
    "# Asegúrese de que la clase Sigmoid esté correctamente definida y utilizada como instancia, no como función.\n",
    "ann = DenseANN(layers=[2, 1], learning_rate=0.1, activations=[\"sigmoid\"])\n",
    "\n",
    "# ==========================\n",
    "# Entrenamiento\n",
    "# ==========================\n",
    "ann.train(X, Y, epochs=5000, print_cost=True, do_graphic=True)\n",
    "\n",
    "# ==========================\n",
    "# Predicción y evaluación\n",
    "# ==========================\n",
    "Yp = ann.predict(X)\n",
    "Yp_labels = (Yp > 0.5).astype(int)\n",
    "\n",
    "print(\"\\n=== Resultados finales ===\")\n",
    "print(\"Entradas:\\n\", X)\n",
    "print(\"Esperado:\\n\", Y)\n",
    "print(\"Predicciones continuas:\\n\", Yp)\n",
    "print(\"Predicciones binarias:\\n\", Yp_labels)\n",
    "\n",
    "# ==========================\n",
    "# Explicación breve de resultados\n",
    "# ==========================\n",
    "print(\"\"\"\n",
    "Explicación:\n",
    "- El perceptrón entrenado logra aprender la función AND.\n",
    "- Para (0,0), (0,1), (1,0) la salida es cercana a 0.\n",
    "- Para (1,1) la salida es cercana a 1.\n",
    "- Como usamos sigmoide, las salidas son valores continuos en (0,1),\n",
    "  que luego se umbralizan a 0 o 1.\n",
    "\"\"\")\n"
   ]
  },
  {
   "cell_type": "code",
   "execution_count": 83,
   "metadata": {
    "id": "ib53qxo4K6fT"
   },
   "outputs": [
    {
     "name": "stdout",
     "output_type": "stream",
     "text": [
      "Epoch 0: cost=0.250008\n",
      "Epoch 100: cost=0.176879\n",
      "Epoch 200: cost=0.150011\n",
      "Epoch 300: cost=0.136956\n",
      "Epoch 400: cost=0.128549\n",
      "Epoch 500: cost=0.122032\n",
      "Epoch 600: cost=0.116432\n",
      "Epoch 700: cost=0.111364\n",
      "Epoch 800: cost=0.106662\n",
      "Epoch 900: cost=0.102248\n",
      "Epoch 1000: cost=0.098087\n",
      "Epoch 1100: cost=0.094155\n",
      "Epoch 1200: cost=0.090440\n",
      "Epoch 1300: cost=0.086929\n",
      "Epoch 1400: cost=0.083611\n",
      "Epoch 1500: cost=0.080476\n",
      "Epoch 1600: cost=0.077513\n",
      "Epoch 1700: cost=0.074712\n",
      "Epoch 1800: cost=0.072063\n",
      "Epoch 1900: cost=0.069556\n",
      "Epoch 2000: cost=0.067183\n",
      "Epoch 2100: cost=0.064935\n",
      "Epoch 2200: cost=0.062802\n",
      "Epoch 2300: cost=0.060779\n",
      "Epoch 2400: cost=0.058858\n",
      "Epoch 2500: cost=0.057033\n",
      "Epoch 2600: cost=0.055297\n",
      "Epoch 2700: cost=0.053644\n",
      "Epoch 2800: cost=0.052070\n",
      "Epoch 2900: cost=0.050570\n",
      "Epoch 3000: cost=0.049140\n",
      "Epoch 3100: cost=0.047774\n",
      "Epoch 3200: cost=0.046470\n",
      "Epoch 3300: cost=0.045223\n",
      "Epoch 3400: cost=0.044030\n",
      "Epoch 3500: cost=0.042889\n",
      "Epoch 3600: cost=0.041796\n",
      "Epoch 3700: cost=0.040749\n",
      "Epoch 3800: cost=0.039745\n",
      "Epoch 3900: cost=0.038781\n",
      "Epoch 4000: cost=0.037856\n",
      "Epoch 4100: cost=0.036968\n",
      "Epoch 4200: cost=0.036114\n",
      "Epoch 4300: cost=0.035294\n",
      "Epoch 4400: cost=0.034504\n",
      "Epoch 4500: cost=0.033744\n",
      "Epoch 4600: cost=0.033011\n",
      "Epoch 4700: cost=0.032306\n",
      "Epoch 4800: cost=0.031626\n",
      "Epoch 4900: cost=0.030970\n"
     ]
    },
    {
     "data": {
      "image/png": "[encoded data removed]",
      "text/plain": [
       "<Figure size 640x480 with 1 Axes>"
      ]
     },
     "metadata": {},
     "output_type": "display_data"
    },
    {
     "name": "stdout",
     "output_type": "stream",
     "text": [
      "\n",
      "=== Resultados finales (OR) ===\n",
      "Entradas:\n",
      " [[0 0 1 1]\n",
      " [0 1 0 1]]\n",
      "Esperado:\n",
      " [[0 1 1 1]]\n",
      "Predicciones continuas:\n",
      " [[0.26947144 0.84410954 0.84418562 0.98758236]]\n",
      "Predicciones binarias:\n",
      " [[0 1 1 1]]\n",
      "\n",
      "Explicación:\n",
      "- El perceptrón entrenado logra aprender la función OR.\n",
      "- Para (0,0) la salida se acerca a 0.\n",
      "- Para (0,1), (1,0) y (1,1) la salida se acerca a 1.\n",
      "- Al igual que en el caso AND, la sigmoide entrega valores continuos\n",
      "  cercanos a 0 o 1, y aplicando un umbral (0.5) obtenemos la tabla de verdad exacta.\n",
      "\n"
     ]
    }
   ],
   "source": [
    "import numpy as np\n",
    "import matplotlib.pyplot as plt\n",
    "\n",
    "# ==========================\n",
    "# Dataset: Operador lógico OR\n",
    "# ==========================\n",
    "X = np.array([\n",
    "    [0, 0, 1, 1],\n",
    "    [0, 1, 0, 1]\n",
    "])  # shape: (2, 4)\n",
    "\n",
    "Y = np.array([[0, 1, 1, 1]])  # salida esperada del OR\n",
    "\n",
    "# ==========================\n",
    "# Definición de la red (Perceptrón)\n",
    "# ==========================\n",
    "ann_or = DenseANN(layers=[2, 1], learning_rate=0.1, activations=[\"sigmoid\"])\n",
    "\n",
    "# ==========================\n",
    "# Entrenamiento\n",
    "# ==========================\n",
    "ann_or.train(X, Y, epochs=5000, print_cost=True, do_graphic=True)\n",
    "\n",
    "# ==========================\n",
    "# Predicción y evaluación\n",
    "# ==========================\n",
    "Yp = ann_or.predict(X)\n",
    "Yp_labels = (Yp > 0.5).astype(int)\n",
    "\n",
    "print(\"\\n=== Resultados finales (OR) ===\")\n",
    "print(\"Entradas:\\n\", X)\n",
    "print(\"Esperado:\\n\", Y)\n",
    "print(\"Predicciones continuas:\\n\", Yp)\n",
    "print(\"Predicciones binarias:\\n\", Yp_labels)\n",
    "\n",
    "print(\"\"\"\n",
    "Explicación:\n",
    "- El perceptrón entrenado logra aprender la función OR.\n",
    "- Para (0,0) la salida se acerca a 0.\n",
    "- Para (0,1), (1,0) y (1,1) la salida se acerca a 1.\n",
    "- Al igual que en el caso AND, la sigmoide entrega valores continuos\n",
    "  cercanos a 0 o 1, y aplicando un umbral (0.5) obtenemos la tabla de verdad exacta.\n",
    "\"\"\")\n"
   ]
  },
  {
   "cell_type": "code",
   "execution_count": 85,
   "metadata": {
    "id": "KSkLyTRnK_Ej"
   },
   "outputs": [
    {
     "name": "stdout",
     "output_type": "stream",
     "text": [
      "Epoch 0: cost=0.250007\n",
      "Epoch 100: cost=0.250003\n",
      "Epoch 200: cost=0.250002\n",
      "Epoch 300: cost=0.250001\n",
      "Epoch 400: cost=0.250001\n",
      "Epoch 500: cost=0.250001\n",
      "Epoch 600: cost=0.250001\n",
      "Epoch 700: cost=0.250001\n",
      "Epoch 800: cost=0.250001\n",
      "Epoch 900: cost=0.250000\n",
      "Epoch 1000: cost=0.250000\n",
      "Epoch 1100: cost=0.250000\n",
      "Epoch 1200: cost=0.250000\n",
      "Epoch 1300: cost=0.250000\n",
      "Epoch 1400: cost=0.250000\n",
      "Epoch 1500: cost=0.250000\n",
      "Epoch 1600: cost=0.250000\n",
      "Epoch 1700: cost=0.250000\n",
      "Epoch 1800: cost=0.250000\n",
      "Epoch 1900: cost=0.250000\n",
      "Epoch 2000: cost=0.250000\n",
      "Epoch 2100: cost=0.250000\n",
      "Epoch 2200: cost=0.250000\n",
      "Epoch 2300: cost=0.250000\n",
      "Epoch 2400: cost=0.250000\n",
      "Epoch 2500: cost=0.250000\n",
      "Epoch 2600: cost=0.250000\n",
      "Epoch 2700: cost=0.250000\n",
      "Epoch 2800: cost=0.250000\n",
      "Epoch 2900: cost=0.250000\n",
      "Epoch 3000: cost=0.250000\n",
      "Epoch 3100: cost=0.250000\n",
      "Epoch 3200: cost=0.250000\n",
      "Epoch 3300: cost=0.250000\n",
      "Epoch 3400: cost=0.250000\n",
      "Epoch 3500: cost=0.250000\n",
      "Epoch 3600: cost=0.250000\n",
      "Epoch 3700: cost=0.250000\n",
      "Epoch 3800: cost=0.250000\n",
      "Epoch 3900: cost=0.250000\n",
      "Epoch 4000: cost=0.250000\n",
      "Epoch 4100: cost=0.250000\n",
      "Epoch 4200: cost=0.250000\n",
      "Epoch 4300: cost=0.250000\n",
      "Epoch 4400: cost=0.250000\n",
      "Epoch 4500: cost=0.250000\n",
      "Epoch 4600: cost=0.250000\n",
      "Epoch 4700: cost=0.250000\n",
      "Epoch 4800: cost=0.250000\n",
      "Epoch 4900: cost=0.250000\n"
     ]
    },
    {
     "data": {
      "image/png": "[encoded data removed]",
      "text/plain": [
       "<Figure size 640x480 with 1 Axes>"
      ]
     },
     "metadata": {},
     "output_type": "display_data"
    },
    {
     "name": "stdout",
     "output_type": "stream",
     "text": [
      "\n",
      "=== Resultados finales ===\n",
      "Entradas:\n",
      " [[0 0 1 1]\n",
      " [0 1 0 1]]\n",
      "Esperado:\n",
      " [[0 1 1 0]]\n",
      "Predicciones continuas:\n",
      " [[0.50012581 0.49999876 0.50004075 0.4999137 ]]\n",
      "Predicciones binarias:\n",
      " [[1 0 1 0]]\n",
      "\n",
      "Explicación:\n",
      "- El perceptrón simple no puede resolver XOR porque no es linealmente separable.\n",
      "- Los puntos (0,1) y (1,0) deberían dar salida 1, mientras que (0,0) y (1,1) deberían dar 0.\n",
      "- Estos puntos no se pueden separar con una sola línea recta en el plano de las entradas.\n",
      "- Por eso, la red no logra converger: verás que las predicciones binarias no coinciden bien con lo esperado.\n",
      "- Para resolver XOR se necesita al menos una red con una capa oculta (es decir, un perceptrón multicapa).\n",
      "\n"
     ]
    }
   ],
   "source": [
    "import numpy as np\n",
    "import matplotlib.pyplot as plt\n",
    "\n",
    "# ==========================\n",
    "# Dataset: Operador lógico XOR\n",
    "# ==========================\n",
    "X = np.array([\n",
    "    [0, 0, 1, 1],\n",
    "    [0, 1, 0, 1]\n",
    "])  # shape: (2, 4)\n",
    "\n",
    "Y = np.array([[0, 1, 1, 0]])  # shape: (1, 4)\n",
    "\n",
    "# ==========================\n",
    "# Definición de la red (Perceptrón simple)\n",
    "# ==========================\n",
    "# Arquitectura: 2 entradas -> 1 salida\n",
    "ann = DenseANN(layers=[2, 1], learning_rate=0.1, activations=[\"sigmoid\"])\n",
    "\n",
    "# ==========================\n",
    "# Entrenamiento\n",
    "# ==========================\n",
    "ann.train(X, Y, epochs=5000, print_cost=True, do_graphic=True)\n",
    "\n",
    "# ==========================\n",
    "# Predicción y evaluación\n",
    "# ==========================\n",
    "Yp = ann.predict(X)\n",
    "Yp_labels = (Yp > 0.5).astype(int)\n",
    "\n",
    "print(\"\\n=== Resultados finales ===\")\n",
    "print(\"Entradas:\\n\", X)\n",
    "print(\"Esperado:\\n\", Y)\n",
    "print(\"Predicciones continuas:\\n\", Yp)\n",
    "print(\"Predicciones binarias:\\n\", Yp_labels)\n",
    "\n",
    "# ==========================\n",
    "# Explicación breve de resultados\n",
    "# ==========================\n",
    "print(\"\"\"\n",
    "Explicación:\n",
    "- El perceptrón simple no puede resolver XOR porque no es linealmente separable.\n",
    "- Los puntos (0,1) y (1,0) deberían dar salida 1, mientras que (0,0) y (1,1) deberían dar 0.\n",
    "- Estos puntos no se pueden separar con una sola línea recta en el plano de las entradas.\n",
    "- Por eso, la red no logra converger: verás que las predicciones binarias no coinciden bien con lo esperado.\n",
    "- Para resolver XOR se necesita al menos una red con una capa oculta (es decir, un perceptrón multicapa).\n",
    "\"\"\")\n"
   ]
  },
  {
   "cell_type": "code",
   "execution_count": 86,
   "metadata": {
    "id": "O9e0aUhfLCus"
   },
   "outputs": [
    {
     "name": "stdout",
     "output_type": "stream",
     "text": [
      "Epoch 0: cost=0.250000\n",
      "Epoch 100: cost=0.250000\n",
      "Epoch 200: cost=0.250000\n",
      "Epoch 300: cost=0.250000\n",
      "Epoch 400: cost=0.250000\n",
      "Epoch 500: cost=0.250000\n",
      "Epoch 600: cost=0.250000\n",
      "Epoch 700: cost=0.250000\n",
      "Epoch 800: cost=0.250000\n",
      "Epoch 900: cost=0.250000\n",
      "Epoch 1000: cost=0.250000\n",
      "Epoch 1100: cost=0.250000\n",
      "Epoch 1200: cost=0.250000\n",
      "Epoch 1300: cost=0.250000\n",
      "Epoch 1400: cost=0.250000\n",
      "Epoch 1500: cost=0.250000\n",
      "Epoch 1600: cost=0.250000\n",
      "Epoch 1700: cost=0.250000\n",
      "Epoch 1800: cost=0.250000\n",
      "Epoch 1900: cost=0.250000\n",
      "Epoch 2000: cost=0.250000\n",
      "Epoch 2100: cost=0.250000\n",
      "Epoch 2200: cost=0.250000\n",
      "Epoch 2300: cost=0.250000\n",
      "Epoch 2400: cost=0.250000\n",
      "Epoch 2500: cost=0.250000\n",
      "Epoch 2600: cost=0.250000\n",
      "Epoch 2700: cost=0.250000\n",
      "Epoch 2800: cost=0.250000\n",
      "Epoch 2900: cost=0.250000\n",
      "Epoch 3000: cost=0.250000\n",
      "Epoch 3100: cost=0.250000\n",
      "Epoch 3200: cost=0.250000\n",
      "Epoch 3300: cost=0.250000\n",
      "Epoch 3400: cost=0.250000\n",
      "Epoch 3500: cost=0.250000\n",
      "Epoch 3600: cost=0.250000\n",
      "Epoch 3700: cost=0.250000\n",
      "Epoch 3800: cost=0.250000\n",
      "Epoch 3900: cost=0.250000\n",
      "Epoch 4000: cost=0.250000\n",
      "Epoch 4100: cost=0.250000\n",
      "Epoch 4200: cost=0.250000\n",
      "Epoch 4300: cost=0.250000\n",
      "Epoch 4400: cost=0.250000\n",
      "Epoch 4500: cost=0.250000\n",
      "Epoch 4600: cost=0.250000\n",
      "Epoch 4700: cost=0.250000\n",
      "Epoch 4800: cost=0.250000\n",
      "Epoch 4900: cost=0.250000\n",
      "Epoch 5000: cost=0.250000\n",
      "Epoch 5100: cost=0.250000\n",
      "Epoch 5200: cost=0.250000\n",
      "Epoch 5300: cost=0.250000\n",
      "Epoch 5400: cost=0.250000\n",
      "Epoch 5500: cost=0.250000\n",
      "Epoch 5600: cost=0.250000\n",
      "Epoch 5700: cost=0.250000\n",
      "Epoch 5800: cost=0.250000\n",
      "Epoch 5900: cost=0.250000\n",
      "Epoch 6000: cost=0.250000\n",
      "Epoch 6100: cost=0.250000\n",
      "Epoch 6200: cost=0.250000\n",
      "Epoch 6300: cost=0.250000\n",
      "Epoch 6400: cost=0.250000\n",
      "Epoch 6500: cost=0.250000\n",
      "Epoch 6600: cost=0.250000\n",
      "Epoch 6700: cost=0.250000\n",
      "Epoch 6800: cost=0.250000\n",
      "Epoch 6900: cost=0.250000\n",
      "Epoch 7000: cost=0.250000\n",
      "Epoch 7100: cost=0.250000\n",
      "Epoch 7200: cost=0.250000\n",
      "Epoch 7300: cost=0.250000\n",
      "Epoch 7400: cost=0.250000\n",
      "Epoch 7500: cost=0.250000\n",
      "Epoch 7600: cost=0.250000\n",
      "Epoch 7700: cost=0.250000\n",
      "Epoch 7800: cost=0.250000\n",
      "Epoch 7900: cost=0.250000\n",
      "Epoch 8000: cost=0.250000\n",
      "Epoch 8100: cost=0.250000\n",
      "Epoch 8200: cost=0.250000\n",
      "Epoch 8300: cost=0.250000\n",
      "Epoch 8400: cost=0.250000\n",
      "Epoch 8500: cost=0.250000\n",
      "Epoch 8600: cost=0.250000\n",
      "Epoch 8700: cost=0.250000\n",
      "Epoch 8800: cost=0.250000\n",
      "Epoch 8900: cost=0.250000\n",
      "Epoch 9000: cost=0.250000\n",
      "Epoch 9100: cost=0.250000\n",
      "Epoch 9200: cost=0.250000\n",
      "Epoch 9300: cost=0.250000\n",
      "Epoch 9400: cost=0.250000\n",
      "Epoch 9500: cost=0.250000\n",
      "Epoch 9600: cost=0.250000\n",
      "Epoch 9700: cost=0.250000\n",
      "Epoch 9800: cost=0.250000\n",
      "Epoch 9900: cost=0.250000\n"
     ]
    },
    {
     "data": {
      "image/png": "[encoded data removed]",
      "text/plain": [
       "<Figure size 640x480 with 1 Axes>"
      ]
     },
     "metadata": {},
     "output_type": "display_data"
    },
    {
     "name": "stdout",
     "output_type": "stream",
     "text": [
      "\n",
      "=== Resultados finales ===\n",
      "Entradas:\n",
      " [[0 0 1 1]\n",
      " [0 1 0 1]]\n",
      "Esperado:\n",
      " [[0 1 1 0]]\n",
      "Predicciones continuas:\n",
      " [[0.49998914 0.49999864 0.50000136 0.50001086]]\n",
      "Predicciones binarias:\n",
      " [[0 0 1 1]]\n",
      "\n",
      "Explicación:\n",
      "- A diferencia del perceptrón simple, este MLP sí aprende la función XOR.\n",
      "- La capa oculta con 2 neuronas permite construir combinaciones no lineales\n",
      "  que dividen el espacio de entrada en regiones que hacen posible separar los casos de salida 1 y 0.\n",
      "- Verás que después del entrenamiento, las predicciones binarias coinciden con la tabla XOR:\n",
      "  (0,0) -> 0\n",
      "  (0,1) -> 1\n",
      "  (1,0) -> 1\n",
      "  (1,1) -> 0\n",
      "- Esto demuestra por qué el perceptrón multicapa es fundamental para resolver problemas no linealmente separables.\n",
      "\n"
     ]
    }
   ],
   "source": [
    "import numpy as np\n",
    "import matplotlib.pyplot as plt\n",
    "\n",
    "# ==========================\n",
    "# Dataset: Operador lógico XOR\n",
    "# ==========================\n",
    "X = np.array([\n",
    "    [0, 0, 1, 1],\n",
    "    [0, 1, 0, 1]\n",
    "])  # shape: (2, 4)\n",
    "\n",
    "Y = np.array([[0, 1, 1, 0]])  # shape: (1, 4)\n",
    "\n",
    "# ==========================\n",
    "# Definición de la red (MLP 2-2-1)\n",
    "# ==========================\n",
    "# Arquitectura: 2 entradas -> 2 ocultas -> 1 salida\n",
    "# Activaciones: ReLU en la oculta, Sigmoid en la salida\n",
    "ann = DenseANN(layers=[2, 2, 1], learning_rate=0.1, activations=[\"relu\", \"sigmoid\"])\n",
    "\n",
    "# ==========================\n",
    "# Entrenamiento\n",
    "# ==========================\n",
    "ann.train(X, Y, epochs=10000, print_cost=True, do_graphic=True)\n",
    "\n",
    "# ==========================\n",
    "# Predicción y evaluación\n",
    "# ==========================\n",
    "Yp = ann.predict(X)\n",
    "Yp_labels = (Yp > 0.5).astype(int)\n",
    "\n",
    "print(\"\\n=== Resultados finales ===\")\n",
    "print(\"Entradas:\\n\", X)\n",
    "print(\"Esperado:\\n\", Y)\n",
    "print(\"Predicciones continuas:\\n\", Yp)\n",
    "print(\"Predicciones binarias:\\n\", Yp_labels)\n",
    "\n",
    "# ==========================\n",
    "# Explicación breve de resultados\n",
    "# ==========================\n",
    "print(\"\"\"\n",
    "Explicación:\n",
    "- A diferencia del perceptrón simple, este MLP sí aprende la función XOR.\n",
    "- La capa oculta con 2 neuronas permite construir combinaciones no lineales\n",
    "  que dividen el espacio de entrada en regiones que hacen posible separar los casos de salida 1 y 0.\n",
    "- Verás que después del entrenamiento, las predicciones binarias coinciden con la tabla XOR:\n",
    "  (0,0) -> 0\n",
    "  (0,1) -> 1\n",
    "  (1,0) -> 1\n",
    "  (1,1) -> 0\n",
    "- Esto demuestra por qué el perceptrón multicapa es fundamental para resolver problemas no linealmente separables.\n",
    "\"\"\")\n"
   ]
  },
  {
   "cell_type": "code",
   "execution_count": null,
   "metadata": {
    "id": "x33KLF1nLXUX"
   },
   "outputs": [],
   "source": [
    "# Como último caso de prueba entrene una red para el dataset propuesto por su profesor. Use 80% para entrenamiento y 20% para pruebas. Explique los resultado."
   ]
  },
  {
   "cell_type": "markdown",
   "metadata": {
    "id": "O5C7OLPCyC4q"
   },
   "source": [
    "# PARTE 2. USO DE FRAMEWORK PARA REDES NEURONALES\n",
    "\n",
    "Para este apartado se va a hacer uso de una librería que brinda de manera simplificada un entrenamiento flexible de distintas redes neuronales. En este caso será **Keras**\n",
    "\n",
    "> Keras proporciona una interfaz Python simplificada para TensorFlow y se ha convertido en uno de los framework más usados en redes neuronales; especialmente las profundas. Cualquier código Keras que escribas se ejecuta en en TensorFlow (también se pueden utilizar CNTK y Theano como *back-end*, pero el desarrollo de estos se ha detenido).\n",
    "\n",
    "Keras ofrece dos API: una [API secuencial](https://keras.io/guides/sequential_model/) y una [API funcional](https://keras.io/guides/functional_api/). La primera es más sencilla y resulta suficiente para la mayoría de las redes neuronales. La segunda es útil en escenarios  como redes con topologías no secuenciales o de capas compartidas. En nuestro caso usaremos el API secuencial.\n",
    "\n",
    "---\n",
    "Resuelvan un problema de clasificación usando el *dataset* definido por su profesor. (70% entrenamiento, 10% validación y 20% pruebas)"
   ]
  },
  {
   "cell_type": "markdown",
   "metadata": {
    "id": "QtgDxggNO-r6"
   },
   "source": [
    "## Paso 1: Definir el problema\n",
    "Antes de desarrollar un modelo, es fundamental establecer qué se quiere lograr y cómo se medirá el éxito. Esto implica explicar el problema, elegir una métrica adeucada y establecer un umbral de desempeño.\n"
   ]
  },
  {
   "cell_type": "markdown",
   "metadata": {
    "id": "MsiXV2HfP7yP"
   },
   "source": []
  },
  {
   "cell_type": "markdown",
   "metadata": {
    "id": "dUK7PUl_PWF-"
   },
   "source": [
    "## Paso 2: Explorar y preparar los datos\n",
    "Para comprender la neturaleza de los datos que estamos utilizando es necesario **explorar** el *dataset* con visualizaciones adecuadas que permitan conocer la distribución de clases o valores, la presencia de valores nulos o atípicos y las correlaciones entre variables.\n",
    "\n",
    "**Preparar** los datos para que la red pueda aprender de manera eficiente implica, entre otras cosas, la limpieza de datos, la normalización o estandarización de valores, la codificación de variables categóricas y la separación en conjuntos de entrenamiento (train), validación (dev) y prueba (test)."
   ]
  },
  {
   "cell_type": "code",
   "execution_count": null,
   "metadata": {
    "id": "e6c-PjDVPd8E"
   },
   "outputs": [
    {
     "name": "stdout",
     "output_type": "stream",
     "text": [
      "           ID   mcg   gvh   alm   mit  erl  pox   vac   nuc clase\n",
      "0  ADT1_YEAST  0.58  0.61  0.47  0.13  0.5  0.0  0.48  0.22   MIT\n",
      "1  ADT2_YEAST  0.43  0.67  0.48  0.27  0.5  0.0  0.53  0.22   MIT\n",
      "2  ADT3_YEAST  0.64  0.62  0.49  0.15  0.5  0.0  0.53  0.22   MIT\n",
      "3  AAR2_YEAST  0.58  0.44  0.57  0.13  0.5  0.0  0.54  0.22   NUC\n",
      "4  AATM_YEAST  0.42  0.44  0.48  0.54  0.5  0.0  0.48  0.22   MIT\n",
      "<class 'pandas.core.frame.DataFrame'>\n",
      "RangeIndex: 1484 entries, 0 to 1483\n",
      "Data columns (total 10 columns):\n",
      " #   Column  Non-Null Count  Dtype  \n",
      "---  ------  --------------  -----  \n",
      " 0   ID      1484 non-null   object \n",
      " 1   mcg     1484 non-null   float64\n",
      " 2   gvh     1484 non-null   float64\n",
      " 3   alm     1484 non-null   float64\n",
      " 4   mit     1484 non-null   float64\n",
      " 5   erl     1484 non-null   float64\n",
      " 6   pox     1484 non-null   float64\n",
      " 7   vac     1484 non-null   float64\n",
      " 8   nuc     1484 non-null   float64\n",
      " 9   clase   1484 non-null   object \n",
      "dtypes: float64(8), object(2)\n",
      "memory usage: 116.1+ KB\n",
      "None\n",
      "clase\n",
      "CYT    463\n",
      "NUC    429\n",
      "MIT    244\n",
      "ME3    163\n",
      "ME2     51\n",
      "ME1     44\n",
      "EXC     35\n",
      "VAC     30\n",
      "POX     20\n",
      "ERL      5\n",
      "Name: count, dtype: int64\n"
     ]
    }
   ],
   "source": [
    "import pandas as pd\n",
    "\n",
    "nombres_columnas = [\"ID\", \"mcg\", \"gvh\", \"alm\", \"mit\", \"erl\", \"pox\", \"vac\", \"nuc\", \"clase\"]\n",
    "\n",
    "datos = pd.read_csv(\"yeast.data\", sep=\"\\s+\", names=nombres_columnas)\n",
    "\n",
    "print(datos.head())\n",
    "\n",
    "print(datos.info())\n",
    "\n",
    "print(datos[\"clase\"].value_counts())\n"
   ]
  },
  {
   "cell_type": "markdown",
   "metadata": {
    "id": "HyL4S_fAP9IY"
   },
   "source": [
    "*Incluyan observaciones**\n",
    "Se elimina la columna ID porqué no nos parecio información relevante, se normalizan las variables de entrada para que el entrenamiento de la red\n",
    "neuronal sea más efectivo, se codifican y transforman las cateogorías a vectores one_hot, los cuales son vectores binarios , marcando con un 1 la categoría a la que pertenece ese conjunto de datos."
   ]
  },
  {
   "cell_type": "code",
   "execution_count": null,
   "metadata": {
    "id": "DYCwROZTPp2R"
   },
   "outputs": [
    {
     "name": "stdout",
     "output_type": "stream",
     "text": [
      "Tamaño Entrenamiento: (1038, 8)\n",
      "Tamaño Validación: (148, 8)\n",
      "Tamaño Prueba: (298, 8)\n"
     ]
    }
   ],
   "source": [
    "from sklearn.model_selection import train_test_split\n",
    "from sklearn.preprocessing import LabelEncoder, StandardScaler\n",
    "from tensorflow.keras.utils import to_categorical\n",
    "\n",
    "\n",
    "datos = datos.drop(columns=[\"ID\"])\n",
    "\n",
    "entradas = datos.drop(columns=[\"clase\"]).values\n",
    "\n",
    "salidas = datos[\"clase\"].values\n",
    "\n",
    "escalador = StandardScaler() \n",
    "\n",
    "entradas = escalador.fit_transform(entradas)\n",
    "\n",
    "codificador = LabelEncoder() \n",
    "\n",
    "salidas_cod = codificador.fit_transform(salidas)\n",
    "\n",
    "salidas_onehot = to_categorical(salidas_cod)\n",
    "\n",
    "\n",
    "entradas_entrenamiento, entradas_temp, salidas_entrenamiento, salidas_temp = train_test_split(\n",
    "    entradas, salidas_onehot, test_size=0.30, random_state=42, stratify=salidas_onehot\n",
    ")\n",
    "entradas_validacion, entradas_prueba, salidas_validacion, salidas_prueba = train_test_split(\n",
    "    entradas_temp, salidas_temp, test_size=(2/3), random_state=42, stratify=salidas_temp\n",
    ")\n",
    "\n",
    "print(f\"Tamaño Entrenamiento: {entradas_entrenamiento.shape}\")\n",
    "print(f\"Tamaño Validación: {entradas_validacion.shape}\")\n",
    "print(f\"Tamaño Prueba: {entradas_prueba.shape}\")\n"
   ]
  },
  {
   "cell_type": "markdown",
   "metadata": {
    "id": "w7WXwdaiOpzC"
   },
   "source": [
    "## Paso 3: Desarrollar la red"
   ]
  },
  {
   "cell_type": "markdown",
   "metadata": {
    "id": "KipGjLx6z656"
   },
   "source": [
    "### Paso 3.1: Definir el modelo Keras\n",
    "\n",
    "Crear una red neuronal utilizando la API secuencial de Keras es sencillo.\n",
    "\n",
    "1. Se crea una instancia de la clase Sequential.\n",
    "2. Se llama a *add* en el objeto *Sequential* para añadir capas. Las capas en sí mismas son instancias de clases como Dense, que representa una capa totalmente conectada con un número específico de neuronas que utilizan una función de activación específica."
   ]
  },
  {
   "cell_type": "code",
   "execution_count": null,
   "metadata": {
    "id": "6bBU8jTTyPNx"
   },
   "outputs": [],
   "source": [
    "from tensorflow.keras.models import Sequential\n",
    "from tensorflow.keras.layers import Dense, Input\n",
    "\n",
    "modelo = Sequential()\n",
    "modelo.add(Input(shape=(entradas_entrenamiento.shape[1],)))   \n",
    "modelo.add(Dense(32, activation=\"relu\"))                     \n",
    "modelo.add(Dense(16, activation=\"relu\"))                      \n",
    "modelo.add(Dense(salidas_onehot.shape[1], activation=\"softmax\")) \n"
   ]
  },
  {
   "cell_type": "markdown",
   "metadata": {
    "id": "kRMPgryG0fyM"
   },
   "source": [
    "### Paso 3.2: Compilar el modelo Keras\n",
    "\n",
    "Una vez inicializado el modelo, hay que compilarlo. Para esto hay que definir las propiedades adicionales necesarias para entrenar la red.\n",
    "\n",
    "Se debe especificar minimamente:\n",
    "1. la **función de pérdida** que se utilizará para evaluar un conjunto de pesos: Se hace uso de la función de pérdida \"categorical_crossentropy\" porqué permite hacer las clasificaciones de las múltiples categorías en donde\n",
    "    las etiquetas están codificadas en one_hot, calculando la diferencia entre la distribución de probabilidad predicha en la red ( salida softmax) y la distribución real.\n",
    "2. el **optimizador** utilizado para buscar diferentes pesos para la red, que en la versión clásica se usa el *gradiente descendente*, pero existen otros famosos como *ADAM*\n",
    "3. la **métrica** que se desea reportar durante el entrenamiento. Se quiere mejorar la exactitud de la RN para que se tenga un mayor porentaje de predicciones correctas."
   ]
  },
  {
   "cell_type": "code",
   "execution_count": null,
   "metadata": {
    "id": "nrfHi7hm1EOS"
   },
   "outputs": [],
   "source": [
    "#Compilar el modelo\n",
    "modelo.compile(\n",
    "    loss=\"categorical_crossentropy\",  \n",
    "    optimizer=\"adam\",\n",
    "    metrics=[\"accuracy\"]\n",
    ")"
   ]
  },
  {
   "cell_type": "markdown",
   "metadata": {
    "id": "xIK_Jgaw1EiX"
   },
   "source": [
    "### Paso 3.3: Entrenar (Fit) el modelo Keras\n",
    "\n",
    "Una vez compilado, es el momento de entrenar o ajustar el modelo con algunos datos. Para esto se hace llamando al método ***fit()*** del modelo.\n",
    "\n",
    "Tenga en cuenta que el entrenamiento se realiza por épocas (*epoch*), y cada época se divide en lotes (*batch*).\n",
    "\n",
    "1. **Epoch:** un ciclo/pasada por todas las observaciones del conjunto de datos de entrenamiento.\n",
    "2. **Batch:** un ciclo de una o más observaciones en un *epoch* antes de que se actualicen los pesos."
   ]
  },
  {
   "cell_type": "code",
   "execution_count": null,
   "metadata": {
    "id": "PKA4nxjt1KGQ"
   },
   "outputs": [
    {
     "name": "stdout",
     "output_type": "stream",
     "text": [
      "Epoch 1/50\n",
      "\u001b[1m65/65\u001b[0m \u001b[32m━━━━━━━━━━━━━━━━━━━━\u001b[0m\u001b[37m\u001b[0m \u001b[1m2s\u001b[0m 6ms/step - accuracy: 0.2669 - loss: 2.0894 - val_accuracy: 0.3851 - val_loss: 1.9213\n",
      "Epoch 2/50\n",
      "\u001b[1m65/65\u001b[0m \u001b[32m━━━━━━━━━━━━━━━━━━━━\u001b[0m\u001b[37m\u001b[0m \u001b[1m0s\u001b[0m 3ms/step - accuracy: 0.4750 - loss: 1.6888 - val_accuracy: 0.4459 - val_loss: 1.5985\n",
      "Epoch 3/50\n",
      "\u001b[1m65/65\u001b[0m \u001b[32m━━━━━━━━━━━━━━━━━━━━\u001b[0m\u001b[37m\u001b[0m \u001b[1m0s\u001b[0m 3ms/step - accuracy: 0.5385 - loss: 1.4199 - val_accuracy: 0.4662 - val_loss: 1.4237\n",
      "Epoch 4/50\n",
      "\u001b[1m65/65\u001b[0m \u001b[32m━━━━━━━━━━━━━━━━━━━━\u001b[0m\u001b[37m\u001b[0m \u001b[1m0s\u001b[0m 4ms/step - accuracy: 0.5539 - loss: 1.2870 - val_accuracy: 0.4797 - val_loss: 1.3499\n",
      "Epoch 5/50\n",
      "\u001b[1m65/65\u001b[0m \u001b[32m━━━━━━━━━━━━━━━━━━━━\u001b[0m\u001b[37m\u001b[0m \u001b[1m0s\u001b[0m 3ms/step - accuracy: 0.5674 - loss: 1.2155 - val_accuracy: 0.4797 - val_loss: 1.3102\n",
      "Epoch 6/50\n",
      "\u001b[1m65/65\u001b[0m \u001b[32m━━━━━━━━━━━━━━━━━━━━\u001b[0m\u001b[37m\u001b[0m \u001b[1m0s\u001b[0m 3ms/step - accuracy: 0.5703 - loss: 1.1676 - val_accuracy: 0.4865 - val_loss: 1.2851\n",
      "Epoch 7/50\n",
      "\u001b[1m65/65\u001b[0m \u001b[32m━━━━━━━━━━━━━━━━━━━━\u001b[0m\u001b[37m\u001b[0m \u001b[1m0s\u001b[0m 3ms/step - accuracy: 0.5867 - loss: 1.1283 - val_accuracy: 0.4730 - val_loss: 1.2714\n",
      "Epoch 8/50\n",
      "\u001b[1m65/65\u001b[0m \u001b[32m━━━━━━━━━━━━━━━━━━━━\u001b[0m\u001b[37m\u001b[0m \u001b[1m0s\u001b[0m 3ms/step - accuracy: 0.6079 - loss: 1.0960 - val_accuracy: 0.5000 - val_loss: 1.2604\n",
      "Epoch 9/50\n",
      "\u001b[1m65/65\u001b[0m \u001b[32m━━━━━━━━━━━━━━━━━━━━\u001b[0m\u001b[37m\u001b[0m \u001b[1m0s\u001b[0m 3ms/step - accuracy: 0.6127 - loss: 1.0725 - val_accuracy: 0.5000 - val_loss: 1.2608\n",
      "Epoch 10/50\n",
      "\u001b[1m65/65\u001b[0m \u001b[32m━━━━━━━━━━━━━━━━━━━━\u001b[0m\u001b[37m\u001b[0m \u001b[1m0s\u001b[0m 3ms/step - accuracy: 0.6127 - loss: 1.0548 - val_accuracy: 0.5068 - val_loss: 1.2513\n",
      "Epoch 11/50\n",
      "\u001b[1m65/65\u001b[0m \u001b[32m━━━━━━━━━━━━━━━━━━━━\u001b[0m\u001b[37m\u001b[0m \u001b[1m0s\u001b[0m 3ms/step - accuracy: 0.6108 - loss: 1.0377 - val_accuracy: 0.5068 - val_loss: 1.2505\n",
      "Epoch 12/50\n",
      "\u001b[1m65/65\u001b[0m \u001b[32m━━━━━━━━━━━━━━━━━━━━\u001b[0m\u001b[37m\u001b[0m \u001b[1m0s\u001b[0m 3ms/step - accuracy: 0.6224 - loss: 1.0303 - val_accuracy: 0.5068 - val_loss: 1.2498\n",
      "Epoch 13/50\n",
      "\u001b[1m65/65\u001b[0m \u001b[32m━━━━━━━━━━━━━━━━━━━━\u001b[0m\u001b[37m\u001b[0m \u001b[1m0s\u001b[0m 3ms/step - accuracy: 0.6281 - loss: 1.0168 - val_accuracy: 0.5068 - val_loss: 1.2439\n",
      "Epoch 14/50\n",
      "\u001b[1m65/65\u001b[0m \u001b[32m━━━━━━━━━━━━━━━━━━━━\u001b[0m\u001b[37m\u001b[0m \u001b[1m0s\u001b[0m 3ms/step - accuracy: 0.6185 - loss: 1.0096 - val_accuracy: 0.5203 - val_loss: 1.2466\n",
      "Epoch 15/50\n",
      "\u001b[1m65/65\u001b[0m \u001b[32m━━━━━━━━━━━━━━━━━━━━\u001b[0m\u001b[37m\u001b[0m \u001b[1m0s\u001b[0m 3ms/step - accuracy: 0.6204 - loss: 1.0036 - val_accuracy: 0.5068 - val_loss: 1.2473\n",
      "Epoch 16/50\n",
      "\u001b[1m65/65\u001b[0m \u001b[32m━━━━━━━━━━━━━━━━━━━━\u001b[0m\u001b[37m\u001b[0m \u001b[1m0s\u001b[0m 3ms/step - accuracy: 0.6252 - loss: 0.9959 - val_accuracy: 0.5068 - val_loss: 1.2463\n",
      "Epoch 17/50\n",
      "\u001b[1m65/65\u001b[0m \u001b[32m━━━━━━━━━━━━━━━━━━━━\u001b[0m\u001b[37m\u001b[0m \u001b[1m0s\u001b[0m 3ms/step - accuracy: 0.6272 - loss: 0.9913 - val_accuracy: 0.5068 - val_loss: 1.2433\n",
      "Epoch 18/50\n",
      "\u001b[1m65/65\u001b[0m \u001b[32m━━━━━━━━━━━━━━━━━━━━\u001b[0m\u001b[37m\u001b[0m \u001b[1m0s\u001b[0m 3ms/step - accuracy: 0.6272 - loss: 0.9862 - val_accuracy: 0.5068 - val_loss: 1.2473\n",
      "Epoch 19/50\n",
      "\u001b[1m65/65\u001b[0m \u001b[32m━━━━━━━━━━━━━━━━━━━━\u001b[0m\u001b[37m\u001b[0m \u001b[1m0s\u001b[0m 3ms/step - accuracy: 0.6301 - loss: 0.9796 - val_accuracy: 0.5000 - val_loss: 1.2453\n",
      "Epoch 20/50\n",
      "\u001b[1m65/65\u001b[0m \u001b[32m━━━━━━━━━━━━━━━━━━━━\u001b[0m\u001b[37m\u001b[0m \u001b[1m0s\u001b[0m 3ms/step - accuracy: 0.6320 - loss: 0.9759 - val_accuracy: 0.5135 - val_loss: 1.2408\n",
      "Epoch 21/50\n",
      "\u001b[1m65/65\u001b[0m \u001b[32m━━━━━━━━━━━━━━━━━━━━\u001b[0m\u001b[37m\u001b[0m \u001b[1m0s\u001b[0m 3ms/step - accuracy: 0.6252 - loss: 0.9698 - val_accuracy: 0.5068 - val_loss: 1.2387\n",
      "Epoch 22/50\n",
      "\u001b[1m65/65\u001b[0m \u001b[32m━━━━━━━━━━━━━━━━━━━━\u001b[0m\u001b[37m\u001b[0m \u001b[1m0s\u001b[0m 2ms/step - accuracy: 0.6320 - loss: 0.9665 - val_accuracy: 0.5270 - val_loss: 1.2538\n",
      "Epoch 23/50\n",
      "\u001b[1m65/65\u001b[0m \u001b[32m━━━━━━━━━━━━━━━━━━━━\u001b[0m\u001b[37m\u001b[0m \u001b[1m0s\u001b[0m 3ms/step - accuracy: 0.6329 - loss: 0.9624 - val_accuracy: 0.5270 - val_loss: 1.2423\n",
      "Epoch 24/50\n",
      "\u001b[1m65/65\u001b[0m \u001b[32m━━━━━━━━━━━━━━━━━━━━\u001b[0m\u001b[37m\u001b[0m \u001b[1m0s\u001b[0m 3ms/step - accuracy: 0.6175 - loss: 0.9617 - val_accuracy: 0.4932 - val_loss: 1.2446\n",
      "Epoch 25/50\n",
      "\u001b[1m65/65\u001b[0m \u001b[32m━━━━━━━━━━━━━━━━━━━━\u001b[0m\u001b[37m\u001b[0m \u001b[1m0s\u001b[0m 2ms/step - accuracy: 0.6368 - loss: 0.9551 - val_accuracy: 0.5000 - val_loss: 1.2463\n",
      "Epoch 26/50\n",
      "\u001b[1m65/65\u001b[0m \u001b[32m━━━━━━━━━━━━━━━━━━━━\u001b[0m\u001b[37m\u001b[0m \u001b[1m0s\u001b[0m 3ms/step - accuracy: 0.6368 - loss: 0.9498 - val_accuracy: 0.5135 - val_loss: 1.2462\n",
      "Epoch 27/50\n",
      "\u001b[1m65/65\u001b[0m \u001b[32m━━━━━━━━━━━━━━━━━━━━\u001b[0m\u001b[37m\u001b[0m \u001b[1m0s\u001b[0m 3ms/step - accuracy: 0.6329 - loss: 0.9481 - val_accuracy: 0.5338 - val_loss: 1.2505\n",
      "Epoch 28/50\n",
      "\u001b[1m65/65\u001b[0m \u001b[32m━━━━━━━━━━━━━━━━━━━━\u001b[0m\u001b[37m\u001b[0m \u001b[1m0s\u001b[0m 3ms/step - accuracy: 0.6358 - loss: 0.9466 - val_accuracy: 0.5203 - val_loss: 1.2446\n",
      "Epoch 29/50\n",
      "\u001b[1m65/65\u001b[0m \u001b[32m━━━━━━━━━━━━━━━━━━━━\u001b[0m\u001b[37m\u001b[0m \u001b[1m0s\u001b[0m 3ms/step - accuracy: 0.6358 - loss: 0.9418 - val_accuracy: 0.5203 - val_loss: 1.2471\n",
      "Epoch 30/50\n",
      "\u001b[1m65/65\u001b[0m \u001b[32m━━━━━━━━━━━━━━━━━━━━\u001b[0m\u001b[37m\u001b[0m \u001b[1m0s\u001b[0m 3ms/step - accuracy: 0.6310 - loss: 0.9373 - val_accuracy: 0.5270 - val_loss: 1.2515\n",
      "Epoch 31/50\n",
      "\u001b[1m65/65\u001b[0m \u001b[32m━━━━━━━━━━━━━━━━━━━━\u001b[0m\u001b[37m\u001b[0m \u001b[1m0s\u001b[0m 3ms/step - accuracy: 0.6378 - loss: 0.9359 - val_accuracy: 0.5270 - val_loss: 1.2541\n",
      "Epoch 32/50\n",
      "\u001b[1m65/65\u001b[0m \u001b[32m━━━━━━━━━━━━━━━━━━━━\u001b[0m\u001b[37m\u001b[0m \u001b[1m0s\u001b[0m 3ms/step - accuracy: 0.6397 - loss: 0.9316 - val_accuracy: 0.5270 - val_loss: 1.2515\n",
      "Epoch 33/50\n",
      "\u001b[1m65/65\u001b[0m \u001b[32m━━━━━━━━━━━━━━━━━━━━\u001b[0m\u001b[37m\u001b[0m \u001b[1m0s\u001b[0m 3ms/step - accuracy: 0.6387 - loss: 0.9291 - val_accuracy: 0.5000 - val_loss: 1.2492\n",
      "Epoch 34/50\n",
      "\u001b[1m65/65\u001b[0m \u001b[32m━━━━━━━━━━━━━━━━━━━━\u001b[0m\u001b[37m\u001b[0m \u001b[1m0s\u001b[0m 3ms/step - accuracy: 0.6320 - loss: 0.9299 - val_accuracy: 0.5405 - val_loss: 1.2534\n",
      "Epoch 35/50\n",
      "\u001b[1m65/65\u001b[0m \u001b[32m━━━━━━━━━━━━━━━━━━━━\u001b[0m\u001b[37m\u001b[0m \u001b[1m0s\u001b[0m 3ms/step - accuracy: 0.6397 - loss: 0.9236 - val_accuracy: 0.5405 - val_loss: 1.2550\n",
      "Epoch 36/50\n",
      "\u001b[1m65/65\u001b[0m \u001b[32m━━━━━━━━━━━━━━━━━━━━\u001b[0m\u001b[37m\u001b[0m \u001b[1m0s\u001b[0m 3ms/step - accuracy: 0.6464 - loss: 0.9181 - val_accuracy: 0.5270 - val_loss: 1.2512\n",
      "Epoch 37/50\n",
      "\u001b[1m65/65\u001b[0m \u001b[32m━━━━━━━━━━━━━━━━━━━━\u001b[0m\u001b[37m\u001b[0m \u001b[1m0s\u001b[0m 3ms/step - accuracy: 0.6474 - loss: 0.9175 - val_accuracy: 0.5473 - val_loss: 1.2617\n",
      "Epoch 38/50\n",
      "\u001b[1m65/65\u001b[0m \u001b[32m━━━━━━━━━━━━━━━━━━━━\u001b[0m\u001b[37m\u001b[0m \u001b[1m0s\u001b[0m 3ms/step - accuracy: 0.6426 - loss: 0.9155 - val_accuracy: 0.5405 - val_loss: 1.2582\n",
      "Epoch 39/50\n",
      "\u001b[1m65/65\u001b[0m \u001b[32m━━━━━━━━━━━━━━━━━━━━\u001b[0m\u001b[37m\u001b[0m \u001b[1m0s\u001b[0m 3ms/step - accuracy: 0.6397 - loss: 0.9105 - val_accuracy: 0.5135 - val_loss: 1.2537\n",
      "Epoch 40/50\n",
      "\u001b[1m65/65\u001b[0m \u001b[32m━━━━━━━━━━━━━━━━━━━━\u001b[0m\u001b[37m\u001b[0m \u001b[1m0s\u001b[0m 2ms/step - accuracy: 0.6474 - loss: 0.9076 - val_accuracy: 0.5203 - val_loss: 1.2621\n",
      "Epoch 41/50\n",
      "\u001b[1m65/65\u001b[0m \u001b[32m━━━━━━━━━━━━━━━━━━━━\u001b[0m\u001b[37m\u001b[0m \u001b[1m0s\u001b[0m 3ms/step - accuracy: 0.6532 - loss: 0.9067 - val_accuracy: 0.5338 - val_loss: 1.2649\n",
      "Epoch 42/50\n",
      "\u001b[1m65/65\u001b[0m \u001b[32m━━━━━━━━━━━━━━━━━━━━\u001b[0m\u001b[37m\u001b[0m \u001b[1m0s\u001b[0m 3ms/step - accuracy: 0.6561 - loss: 0.9042 - val_accuracy: 0.5473 - val_loss: 1.2632\n",
      "Epoch 43/50\n",
      "\u001b[1m65/65\u001b[0m \u001b[32m━━━━━━━━━━━━━━━━━━━━\u001b[0m\u001b[37m\u001b[0m \u001b[1m0s\u001b[0m 3ms/step - accuracy: 0.6503 - loss: 0.9014 - val_accuracy: 0.5135 - val_loss: 1.2657\n",
      "Epoch 44/50\n",
      "\u001b[1m65/65\u001b[0m \u001b[32m━━━━━━━━━━━━━━━━━━━━\u001b[0m\u001b[37m\u001b[0m \u001b[1m0s\u001b[0m 3ms/step - accuracy: 0.6493 - loss: 0.8993 - val_accuracy: 0.5203 - val_loss: 1.2647\n",
      "Epoch 45/50\n",
      "\u001b[1m65/65\u001b[0m \u001b[32m━━━━━━━━━━━━━━━━━━━━\u001b[0m\u001b[37m\u001b[0m \u001b[1m0s\u001b[0m 3ms/step - accuracy: 0.6503 - loss: 0.8961 - val_accuracy: 0.5270 - val_loss: 1.2638\n",
      "Epoch 46/50\n",
      "\u001b[1m65/65\u001b[0m \u001b[32m━━━━━━━━━━━━━━━━━━━━\u001b[0m\u001b[37m\u001b[0m \u001b[1m0s\u001b[0m 3ms/step - accuracy: 0.6551 - loss: 0.8964 - val_accuracy: 0.5203 - val_loss: 1.2628\n",
      "Epoch 47/50\n",
      "\u001b[1m65/65\u001b[0m \u001b[32m━━━━━━━━━━━━━━━━━━━━\u001b[0m\u001b[37m\u001b[0m \u001b[1m0s\u001b[0m 3ms/step - accuracy: 0.6513 - loss: 0.8924 - val_accuracy: 0.5338 - val_loss: 1.2677\n",
      "Epoch 48/50\n",
      "\u001b[1m65/65\u001b[0m \u001b[32m━━━━━━━━━━━━━━━━━━━━\u001b[0m\u001b[37m\u001b[0m \u001b[1m0s\u001b[0m 3ms/step - accuracy: 0.6522 - loss: 0.8921 - val_accuracy: 0.5203 - val_loss: 1.2723\n",
      "Epoch 49/50\n",
      "\u001b[1m65/65\u001b[0m \u001b[32m━━━━━━━━━━━━━━━━━━━━\u001b[0m\u001b[37m\u001b[0m \u001b[1m0s\u001b[0m 3ms/step - accuracy: 0.6551 - loss: 0.8888 - val_accuracy: 0.5473 - val_loss: 1.2688\n",
      "Epoch 50/50\n",
      "\u001b[1m65/65\u001b[0m \u001b[32m━━━━━━━━━━━━━━━━━━━━\u001b[0m\u001b[37m\u001b[0m \u001b[1m0s\u001b[0m 3ms/step - accuracy: 0.6551 - loss: 0.8862 - val_accuracy: 0.5135 - val_loss: 1.2769\n"
     ]
    }
   ],
   "source": [
    "historial = modelo.fit(\n",
    "    entradas_entrenamiento, salidas_entrenamiento,\n",
    "    validation_data=(entradas_validacion, salidas_validacion),\n",
    "    epochs=50,\n",
    "    batch_size=16,\n",
    "    verbose=1\n",
    ")"
   ]
  },
  {
   "cell_type": "markdown",
   "metadata": {
    "id": "ThTyBFL01Ka7"
   },
   "source": [
    "### Paso 3.4: Evaluar el modelo Keras\n",
    "\n",
    "Ya entrenada la red neuronal con todo el conjunto de datos de entrenamiento, se puede evaluar su rendimiento con otra serie de datos.\n",
    "\n",
    "Para evaluar el modelo se puede hacer uso del método ***evaluate()*** agregandole los respectivos conjuntos de datos con su la salida esperada."
   ]
  },
  {
   "cell_type": "code",
   "execution_count": null,
   "metadata": {
    "id": "mRakYXvl1Qwo"
   },
   "outputs": [
    {
     "name": "stdout",
     "output_type": "stream",
     "text": [
      "\n",
      "Exactitud en prueba = 0.6074, Pérdida = 1.1328\n"
     ]
    }
   ],
   "source": [
    "perdida, exactitud = modelo.evaluate(entradas_prueba, salidas_prueba, verbose=0)\n",
    "print(f\"\\nExactitud en prueba = {exactitud:.4f}, Pérdida = {perdida:.4f}\")"
   ]
  },
  {
   "cell_type": "markdown",
   "metadata": {
    "id": "Z8H5aoqsQKG5"
   },
   "source": [
    "##Paso 4: Redactar conclusiones"
   ]
  },
  {
   "cell_type": "markdown",
   "metadata": {
    "id": "FQH5ZH-uQp9M"
   },
   "source": [
    "El modelo entrenado alcanza una exactitud del 60% en el conjunto de prueba, lo que muestra un desempeño bastante bueno considerando la cantidad de epocas manejadas para el entrenamiendo del modelo. El valor de pérdida es del 1.13, lo que indica que las predicciones aun no son del todo acertadas y que la RN aún no logra diferenciar claramente entre las distintas categorías.Estos resultados sugieren que se debe hacer mejoras en su arquitectura o parametros para mejorar su desempeño. Por ejemplo, se puede aumentar el número de neuronas en las capas ocultas, agregar más capas ocultas, ajustar la tasa de aprendizaje del optimizador o aumentar el número de épocas de entrenamiento."
   ]
  },
  {
   "cell_type": "markdown",
   "metadata": {
    "id": "a256172f"
   },
   "source": [
    "## RETROSPECTIVA"
   ]
  },
  {
   "cell_type": "markdown",
   "metadata": {
    "id": "d8ee9bfb"
   },
   "source": [
    "**1.** ¿Cuál fue el tiempo total invertido en el laboratorio por cada uno de ustedes? (Horas/Hombre)\n",
    "\n",
    "* Carolina Cepeda :  horas\n",
    "\n",
    "**2.** ¿Cuál es el estado actual del laboratorio? ¿Por qué?\n",
    "\n",
    "**3.** ¿Cuál consideran fue el mayor logro? ¿Por qué?\n",
    "\n",
    "**4.** ¿Cuál consideran que fue el mayor problema técnico? ¿Qué hicieron para resolverlo?\n",
    "\n",
    "**5.** ¿Qué hicieron bien como equipo? ¿Qué se comprometen a hacer para mejorar los resultados?\n",
    "\n",
    "**6**.¿Qué referencias usaron? ¿Cuál fue la más útil? Incluya citas con los estándares adecuados.\n",
    "\n",
    "\n",
    "Una de las referencias más utiles fue la documentación oficial de Scikit-learn, en la cual se explica detalladamente el funcionamiento de la función train_test_split, la cual fue utilizada para dividir el dataset en conjuntos de entrenamiento, validación y prueba.\n",
    "Scikit-learn developers. (n.d.). sklearn.model_selection.train_test_split [Documentación]. Scikit-learn. https://scikit-learn.org/stable/modules/generated/sklearn.model_selection.train_test_split.html\n",
    "\n",
    "TensorFlow. (2025). tf.keras.Sequential [Documentación]. TensorFlow. https://www.tensorflow.org/api_docs/python/tf/keras/Sequential"
   ]
  },
  {
   "cell_type": "markdown",
   "metadata": {
    "id": "ANpH0IfdNvxS"
   },
   "source": [
    "*Incluyan las respuesta*"
   ]
  }
 ],
 "metadata": {
  "colab": {
   "provenance": []
  },
  "kernelspec": {
   "display_name": "Python 3",
   "name": "python3"
  },
  "language_info": {
   "codemirror_mode": {
    "name": "ipython",
    "version": 3
   },
   "file_extension": ".py",
   "mimetype": "text/x-python",
   "name": "python",
   "nbconvert_exporter": "python",
   "pygments_lexer": "ipython3",
   "version": "3.11.9"
  }
 },
 "nbformat": 4,
 "nbformat_minor": 0
}
